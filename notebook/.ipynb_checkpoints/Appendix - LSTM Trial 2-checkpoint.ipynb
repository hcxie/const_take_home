{
 "cells": [
  {
   "cell_type": "markdown",
   "id": "52b12237",
   "metadata": {},
   "source": [
    "# LSTM Trial 2"
   ]
  },
  {
   "cell_type": "code",
   "execution_count": null,
   "id": "66efdc5c",
   "metadata": {},
   "outputs": [],
   "source": [
    "%cd .."
   ]
  },
  {
   "cell_type": "code",
   "execution_count": 3,
   "id": "b1b51cab",
   "metadata": {},
   "outputs": [],
   "source": [
    "import numpy as np\n",
    "import matplotlib.pyplot as plt\n",
    "import pandas as pd\n",
    "import torch\n",
    "import torch.nn as nn\n",
    "from torch.autograd import Variable\n",
    "from sklearn.preprocessing import MinMaxScaler, StandardScaler\n",
    "from scipy.stats.mstats import winsorize\n",
    "from src._helper_class import *\n",
    "from imblearn.pipeline import make_pipeline as imblearn_make_pipeline\n",
    "from sklearn.decomposition import PCA"
   ]
  },
  {
   "cell_type": "code",
   "execution_count": 208,
   "id": "a139877b",
   "metadata": {},
   "outputs": [],
   "source": [
    "def create_X_Y(train_data, train_label, test_data, data_pipeline, city):\n",
    "    \"\"\"\n",
    "    - load training data, test data, test_data\n",
    "    - filter by city name\n",
    "    - Apply data pipeline to create modeing dataset\n",
    "    \"\"\"\n",
    "    \n",
    "    # prepare train features\n",
    "    train_data = train_data.loc[train_data[\"city\"] == city,:].copy()\n",
    "    train_data.reset_index(drop = True, inplace = True)\n",
    "    X = train_data.drop(columns = [\"city\"])\n",
    "    \n",
    "    # prepare train labels\n",
    "    Y = train_label.loc[train_label[\"city\"] == city,:].copy()\n",
    "    Y.reset_index(drop = True, inplace = True)\n",
    "    Y = Y[\"total_cases\"]\n",
    "    \n",
    "    # prepare test features\n",
    "    test_data = test_data.loc[test_data[\"city\"] == city,:].copy()\n",
    "    test_data.reset_index(drop = True, inplace = True)\n",
    "    X_test = test_data.drop(columns = [\"city\"])\n",
    "    \n",
    "    # Apply pipelines\n",
    "    X_train = data_pipeline.fit_transform(X, Y)\n",
    "    Y_train = Y.to_numpy()\n",
    "    # Apply pipelines\n",
    "    X_test = data_pipeline.transform(X_test)\n",
    "    \n",
    "    return X_train, Y_train, X_test\n",
    "\n",
    "def LSTM_sliding_windows(input_data, tw):\n",
    "    inout_seq = []\n",
    "    L = len(input_data)\n",
    "    for i in range(L-tw):\n",
    "        train_seq = input_data[i:i+tw]\n",
    "        train_label = input_data[i+tw:i+tw+1]\n",
    "        inout_seq.append((train_seq ,train_label))\n",
    "    return inout_seq\n",
    "\n",
    "def LSTM_sliding_windows_v2(input_data, Y, tw):\n",
    "    input_data = torch.FloatTensor(input_data)\n",
    "    Y = torch.FloatTensor(Y)\n",
    "    Y = Y.reshape(-1, 1)\n",
    "    input_data = torch.hstack((input_data, Y))\n",
    "    full_data = []\n",
    "    L = len(input_data)\n",
    "    for i in range(L-tw):\n",
    "        train_seq = input_data[i:i+tw]\n",
    "        train_label = Y[i+tw:i+tw+1].view(-1)\n",
    "        full_data.append((train_seq ,train_label))\n",
    "        \n",
    "    train_data = full_data[0:int(len(full_data)*0.85)]\n",
    "    val_data = full_data[int(len(full_data)*0.85):]  \n",
    "    return full_data, train_data, val_data\n",
    "\n",
    "def LSTM_train_eval(epoch, train_data, val_data):\n",
    "    model.train()\n",
    "    \n",
    "    train_loss = 0\n",
    "    for x, y in train_data:\n",
    "        x, y = x.to(device), y.to(device)\n",
    "        optimizer.zero_grad()\n",
    "        model.hidden_cell = (torch.zeros(1, 1, model.hidden_layer_size),\n",
    "                             torch.zeros(1, 1, model.hidden_layer_size))\n",
    "        \n",
    "        outputs = model(x)\n",
    "        loss = criterion(outputs, y)\n",
    "        train_loss += loss\n",
    "        loss.backward()\n",
    "        optimizer.step()\n",
    "            \n",
    "        \n",
    "    train_loss /= len(train_data)\n",
    "        \n",
    "    model.eval()\n",
    "    \n",
    "    val_loss = 0\n",
    "    with torch.no_grad():\n",
    "        for x_val, y_val in val_data:\n",
    "            x_val, y_val = x_val.to(device), y_val.to(device)\n",
    "            val_outputs = model(x_val)\n",
    "            loss = criterion(val_outputs, y_val)\n",
    "            val_loss += loss\n",
    "            \n",
    "    val_loss /= len(val_data)\n",
    "        \n",
    "        \n",
    "    if epoch % 10 == 0:\n",
    "        print('Epoch: {}. train Loss: {}. val loss: {}'.format(epoch, train_loss, val_loss))\n",
    "        \n",
    "    return train_loss, val_loss\n",
    "\n",
    "def LSTM_train_only(epoch, train_data):\n",
    "    model.train()\n",
    "    \n",
    "    train_loss = 0\n",
    "    for x, y in train_data:\n",
    "        x, y = x.to(device), y.to(device)\n",
    "        optimizer.zero_grad()\n",
    "        model.hidden_cell = (torch.zeros(1, 1, model.hidden_layer_size),\n",
    "                             torch.zeros(1, 1, model.hidden_layer_size))\n",
    "        \n",
    "        outputs = model(x)\n",
    "        loss = criterion(outputs, y)\n",
    "        train_loss += loss\n",
    "        loss.backward()\n",
    "        optimizer.step()\n",
    "            \n",
    "        \n",
    "    train_loss /= len(train_data)\n",
    "    \n",
    "    if epoch % 10 == 0:\n",
    "        print('Epoch: {}. train Loss: {}.'.format(epoch, train_loss))\n",
    "        \n",
    "    return train_loss\n",
    "\n",
    "def LSTM_predict_seq(input_data, Y, tw, test_data):\n",
    "    \n",
    "    Y = Y.reshape(-1, 1)\n",
    "    input_data = np.hstack((input_data, Y))\n",
    "    \n",
    "    seq = input_data[-tw:]\n",
    "    seq = torch.FloatTensor(seq)\n",
    "    \n",
    "    test_data = torch.FloatTensor(test_data)\n",
    "    \n",
    "    pred_len = len(test_data)\n",
    "    \n",
    "    result = np.array([])\n",
    "            \n",
    "    model.eval()\n",
    "    for i in range(pred_len):\n",
    "        with torch.no_grad():\n",
    "            model.hidden = (torch.zeros(1, 1, model.hidden_layer_size),\n",
    "                            torch.zeros(1, 1, model.hidden_layer_size))\n",
    "            pred_seq = model(seq)\n",
    "            detached_seq = pred_seq.cpu().detach().numpy()\n",
    "            result = np.append(result, detached_seq)\n",
    "            \n",
    "            next_point = test_data[i,:]\n",
    "            next_point = torch.hstack((next_point, pred_seq))\n",
    "            \n",
    "            seq = torch.vstack((seq, next_point))\n",
    "            \n",
    "            seq = seq[-tw:]\n",
    "            \n",
    "    return result\n",
    "\n",
    "def get_default_device():\n",
    "    # return: device and use_cuda\n",
    "    if torch.cuda.is_available():\n",
    "        return torch.device(\"cuda\"), True\n",
    "    else:\n",
    "        return torch.device(\"cpu\"), False\n",
    "    \n"
   ]
  },
  {
   "cell_type": "code",
   "execution_count": 209,
   "id": "796e8533",
   "metadata": {},
   "outputs": [],
   "source": [
    "# LSTM class\n",
    "class EarlyStopping():\n",
    "    \"\"\"\n",
    "    Early stopping to stop the training when the loss does not improve after\n",
    "    certain epochs.\n",
    "    \"\"\"\n",
    "    def __init__(self, patience=5, min_delta=0):\n",
    "        \"\"\"\n",
    "        param patience: how many epochs to wait before stopping when loss is\n",
    "            not improving\n",
    "        param min_delta: minimum difference between new loss and old loss for\n",
    "        new loss to be considered as an improvement\n",
    "        \"\"\"\n",
    "        self.patience = patience\n",
    "        self.min_delta = min_delta\n",
    "        self.counter = 0\n",
    "        self.best_loss = None\n",
    "        self.early_stop = False\n",
    "        pass\n",
    "    \n",
    "    def __call__(self, val_loss):\n",
    "        if self.best_loss == None:\n",
    "            self.best_loss = val_loss\n",
    "        elif self.best_loss - val_loss > self.min_delta:\n",
    "            self.best_loss = val_loss\n",
    "        # reset counter if validation loss improves\n",
    "            self.counter = 0\n",
    "        elif self.best_loss - val_loss < self.min_delta:\n",
    "            self.counter += 1\n",
    "            print(f\"INFO: Early stopping counter {self.counter} of {self.patience}\")\n",
    "            \n",
    "            if self.counter >= self.patience:\n",
    "                print('INFO: Early stopping')\n",
    "                self.early_stop = True\n",
    "        return\n",
    "\n",
    "class LSTM(nn.Module):\n",
    "    def __init__(self, input_size=1, hidden_layer_size=100, output_size=1):\n",
    "        super().__init__()\n",
    "        self.hidden_layer_size = hidden_layer_size\n",
    "\n",
    "        self.lstm = nn.LSTM(input_size, hidden_layer_size)\n",
    "\n",
    "        self.linear = nn.Linear(hidden_layer_size, output_size)\n",
    "\n",
    "        self.hidden_cell = (torch.zeros(1,1,self.hidden_layer_size),\n",
    "                            torch.zeros(1,1,self.hidden_layer_size))\n",
    "\n",
    "    def forward(self, input_seq):\n",
    "        lstm_out, self.hidden_cell = self.lstm(input_seq.view(len(input_seq) ,1, -1), self.hidden_cell)\n",
    "        predictions = self.linear(lstm_out.view(len(input_seq), -1))\n",
    "        return predictions[-1]\n",
    "    \n"
   ]
  },
  {
   "cell_type": "code",
   "execution_count": null,
   "id": "d7bc0b52",
   "metadata": {},
   "outputs": [],
   "source": []
  },
  {
   "cell_type": "code",
   "execution_count": 210,
   "id": "45477e3e",
   "metadata": {},
   "outputs": [],
   "source": [
    "# load data\n",
    "train_data = pd.read_csv(\"data/dengue_features_train.csv\")\n",
    "train_label = pd.read_csv(\"data/dengue_labels_train.csv\")\n",
    "test_data = pd.read_csv(\"data/dengue_features_test.csv\")\n",
    "\n",
    "sj_data_pipeline = imblearn_make_pipeline(\n",
    "    Dengue_cat_encoder(),\n",
    "    Feature_argumentation1(),\n",
    "    Imputer(impute_mode = 0),\n",
    "    Feature_argumentation2(mode = 1, max_t_drift = 52),\n",
    "    Feature_argumentation3(),\n",
    "    Standardization(),\n",
    "    PCA(n_components = 348)\n",
    ")"
   ]
  },
  {
   "cell_type": "code",
   "execution_count": 211,
   "id": "5c556dc1",
   "metadata": {},
   "outputs": [
    {
     "name": "stderr",
     "output_type": "stream",
     "text": [
      "C:\\Users\\xieh2\\Anaconda3\\lib\\site-packages\\pandas\\core\\algorithms.py:798: FutureWarning: In a future version, the Index constructor will not infer numeric dtypes when passed object-dtype sequences (matching Series behavior)\n",
      "  uniques = Index(uniques)\n"
     ]
    },
    {
     "name": "stdout",
     "output_type": "stream",
     "text": [
      "fit_trasfrom\n"
     ]
    },
    {
     "name": "stderr",
     "output_type": "stream",
     "text": [
      "C:\\Users\\xieh2\\Anaconda3\\lib\\site-packages\\pandas\\core\\algorithms.py:798: FutureWarning: In a future version, the Index constructor will not infer numeric dtypes when passed object-dtype sequences (matching Series behavior)\n",
      "  uniques = Index(uniques)\n"
     ]
    },
    {
     "name": "stdout",
     "output_type": "stream",
     "text": [
      "trasfrom\n",
      "Epoch: 0. train Loss: 20.832836151123047.\n",
      "Epoch: 10. train Loss: 8.564481735229492.\n",
      "Epoch: 20. train Loss: 6.150279998779297.\n",
      "current epoch:  29\r"
     ]
    },
    {
     "data": {
      "text/plain": [
       "[<matplotlib.lines.Line2D at 0x1c110598bb0>]"
      ]
     },
     "execution_count": 211,
     "metadata": {},
     "output_type": "execute_result"
    },
    {
     "data": {
      "image/png": "[encoded data removed]",
      "text/plain": [
       "<Figure size 432x288 with 1 Axes>"
      ]
     },
     "metadata": {
      "needs_background": "light"
     },
     "output_type": "display_data"
    }
   ],
   "source": [
    "X_train, Y_train, X_test = create_X_Y(train_data, train_label, test_data, sj_data_pipeline, \"sj\")\n",
    "XY_data = LSTM_sliding_windows_v2(X_train, Y_train, 52)\n",
    "\n",
    "eta = 0.001\n",
    "tw = 52\n",
    "nums_epochs = 30\n",
    "\n",
    "device, is_gpu = get_default_device()\n",
    "\n",
    "model = LSTM(input_size=349, \n",
    "             hidden_layer_size=256, \n",
    "             output_size=1).to(device)\n",
    "criterion = torch.nn.L1Loss()\n",
    "\n",
    "optimizer = torch.optim.Adam(model.parameters(), \n",
    "                             lr=eta)\n",
    "\n",
    "earlystopper = EarlyStopping(5, 0)\n",
    "\n",
    "full_data = XY_data[0]\n",
    "train_data = XY_data[1]\n",
    "val_data = XY_data[2]\n",
    "\n",
    "for epoch in range(nums_epochs):\n",
    "    print(\"current epoch: \", epoch, end = \"\\r\", flush = True)\n",
    "    train_loss= LSTM_train_only(epoch, full_data)\n",
    "    \n",
    "pred_sj = LSTM_predict_seq(X_train, Y_train, tw, X_test)\n",
    "plt.plot(pred_sj)"
   ]
  },
  {
   "cell_type": "code",
   "execution_count": 212,
   "id": "0a7bf972",
   "metadata": {},
   "outputs": [
    {
     "name": "stderr",
     "output_type": "stream",
     "text": [
      "C:\\Users\\xieh2\\Anaconda3\\lib\\site-packages\\pandas\\core\\algorithms.py:798: FutureWarning: In a future version, the Index constructor will not infer numeric dtypes when passed object-dtype sequences (matching Series behavior)\n",
      "  uniques = Index(uniques)\n"
     ]
    },
    {
     "name": "stdout",
     "output_type": "stream",
     "text": [
      "fit_trasfrom\n"
     ]
    },
    {
     "name": "stderr",
     "output_type": "stream",
     "text": [
      "C:\\Users\\xieh2\\Anaconda3\\lib\\site-packages\\pandas\\core\\algorithms.py:798: FutureWarning: In a future version, the Index constructor will not infer numeric dtypes when passed object-dtype sequences (matching Series behavior)\n",
      "  uniques = Index(uniques)\n"
     ]
    },
    {
     "name": "stdout",
     "output_type": "stream",
     "text": [
      "trasfrom\n",
      "Epoch: 0. train Loss: 5.650503158569336.\n",
      "Epoch: 10. train Loss: 1.7131305932998657.\n"
     ]
    },
    {
     "data": {
      "text/plain": [
       "[<matplotlib.lines.Line2D at 0x1c110d715b0>]"
      ]
     },
     "execution_count": 212,
     "metadata": {},
     "output_type": "execute_result"
    },
    {
     "data": {
      "image/png": "[encoded data removed]",
      "text/plain": [
       "<Figure size 432x288 with 1 Axes>"
      ]
     },
     "metadata": {
      "needs_background": "light"
     },
     "output_type": "display_data"
    }
   ],
   "source": [
    "# load data\n",
    "train_data = pd.read_csv(\"data/dengue_features_train.csv\")\n",
    "train_label = pd.read_csv(\"data/dengue_labels_train.csv\")\n",
    "test_data = pd.read_csv(\"data/dengue_features_test.csv\")\n",
    "\n",
    "iq_data_pipeline = imblearn_make_pipeline(\n",
    "    Dengue_cat_encoder(),\n",
    "    Feature_argumentation1(),\n",
    "    Imputer(impute_mode = 0),\n",
    "    Feature_argumentation2(mode = 1, max_t_drift = 52),\n",
    "    Feature_argumentation3(),\n",
    "    Standardization(),\n",
    "    PCA(n_components = 248)\n",
    ")\n",
    "\n",
    "X_train, Y_train, X_test = create_X_Y(train_data, train_label, test_data, iq_data_pipeline, \"iq\")\n",
    "XY_data = LSTM_sliding_windows_v2(X_train, Y_train, 52)\n",
    "\n",
    "model = LSTM(input_size=249, \n",
    "             hidden_layer_size=512, \n",
    "             output_size=1).to(device)\n",
    "criterion = torch.nn.L1Loss()\n",
    "\n",
    "optimizer = torch.optim.Adam(model.parameters(), \n",
    "                             lr=eta)\n",
    "\n",
    "earlystopper = EarlyStopping(5, 0)\n",
    "\n",
    "full_data = XY_data[0]\n",
    "train_data = XY_data[1]\n",
    "val_data = XY_data[2]\n",
    "\n",
    "nums_epochs = 11\n",
    "\n",
    "for epoch in range(nums_epochs):\n",
    "    print(\"current epoch: \", epoch, end = \"\\r\", flush = True)\n",
    "    train_loss= LSTM_train_only(epoch, full_data)\n",
    "    \n",
    "pred_iq = LSTM_predict_seq(X_train, Y_train, tw, X_test)\n",
    "plt.plot(pred_iq)"
   ]
  },
  {
   "cell_type": "code",
   "execution_count": null,
   "id": "95930b3c",
   "metadata": {},
   "outputs": [],
   "source": []
  },
  {
   "cell_type": "code",
   "execution_count": 214,
   "id": "1f48c31a",
   "metadata": {},
   "outputs": [
    {
     "data": {
      "image/png": "[encoded data removed]",
      "text/plain": [
       "<Figure size 432x288 with 1 Axes>"
      ]
     },
     "metadata": {
      "needs_background": "light"
     },
     "output_type": "display_data"
    }
   ],
   "source": [
    "final_result = np.concatenate([pred_sj, pred_iq])\n",
    "plt.plot(final_result)\n",
    "submission = pd.read_csv(\"data/submission_format.csv\")\n",
    "submission[\"total_cases\"] = final_result\n",
    "submission.to_csv(\"data/LSTMV2_submission.csv\", index = False)"
   ]
  },
  {
   "cell_type": "code",
   "execution_count": null,
   "id": "138c3a02",
   "metadata": {},
   "outputs": [],
   "source": []
  }
 ],
 "metadata": {
  "kernelspec": {
   "display_name": "Python 3 (ipykernel)",
   "language": "python",
   "name": "python3"
  },
  "language_info": {
   "codemirror_mode": {
    "name": "ipython",
    "version": 3
   },
   "file_extension": ".py",
   "mimetype": "text/x-python",
   "name": "python",
   "nbconvert_exporter": "python",
   "pygments_lexer": "ipython3",
   "version": "3.7.13"
  },
  "toc": {
   "base_numbering": 1,
   "nav_menu": {},
   "number_sections": true,
   "sideBar": true,
   "skip_h1_title": false,
   "title_cell": "Table of Contents",
   "title_sidebar": "Contents",
   "toc_cell": false,
   "toc_position": {},
   "toc_section_display": true,
   "toc_window_display": false
  }
 },
 "nbformat": 4,
 "nbformat_minor": 5
}
