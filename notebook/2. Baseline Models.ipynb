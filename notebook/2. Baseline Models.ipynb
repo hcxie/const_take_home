{
 "cells": [
  {
   "cell_type": "markdown",
   "id": "3863b19d",
   "metadata": {},
   "source": [
    "# Baseline Models Creation"
   ]
  },
  {
   "cell_type": "markdown",
   "id": "61ef73df",
   "metadata": {},
   "source": [
    "## load package and prepare data"
   ]
  },
  {
   "cell_type": "code",
   "execution_count": 2,
   "id": "7cd639d8",
   "metadata": {},
   "outputs": [],
   "source": [
    "import pandas as pd\n",
    "import numpy as np\n",
    "import warnings\n",
    "warnings.filterwarnings('ignore')"
   ]
  },
  {
   "cell_type": "code",
   "execution_count": 16,
   "id": "9e27a54c",
   "metadata": {},
   "outputs": [],
   "source": [
    "import xgboost as xgb\n",
    "import matplotlib.pyplot as plt"
   ]
  },
  {
   "cell_type": "code",
   "execution_count": 3,
   "id": "b7d648c4",
   "metadata": {},
   "outputs": [],
   "source": [
    "# load data\n",
    "train_data = pd.read_csv(\"../data/dengue_features_train.csv\")\n",
    "train_label = pd.read_csv(\"../data/dengue_labels_train.csv\")\n",
    "test_data = pd.read_csv(\"../data/dengue_features_test.csv\")"
   ]
  },
  {
   "cell_type": "code",
   "execution_count": 4,
   "id": "9404e07e",
   "metadata": {},
   "outputs": [],
   "source": [
    "# split the data based on city\n",
    "train_data[\"week_start_date\"] = pd.to_datetime(train_data[\"week_start_date\"])\n",
    "train_data_sj = train_data.loc[train_data[\"city\"]==\"sj\",:]\n",
    "train_data_iq = train_data.loc[train_data[\"city\"]==\"iq\",:]\n",
    "\n",
    "test_data[\"week_start_date\"] = pd.to_datetime(test_data[\"week_start_date\"])\n",
    "test_data_sj = test_data.loc[test_data[\"city\"]==\"sj\",:]\n",
    "test_data_iq = test_data.loc[test_data[\"city\"]==\"iq\",:]\n",
    "\n",
    "train_label_sj = train_label.loc[train_label[\"city\"]==\"sj\",:]\n",
    "train_label_iq = train_label.loc[train_label[\"city\"]==\"iq\",:]"
   ]
  },
  {
   "cell_type": "code",
   "execution_count": 5,
   "id": "9044060f",
   "metadata": {},
   "outputs": [],
   "source": [
    "# append target variables\n",
    "train_data_sj.loc[:,\"total_cases\"] = train_label_sj[\"total_cases\"]\n",
    "train_data_iq.loc[:,\"total_cases\"] = train_label_iq[\"total_cases\"]"
   ]
  },
  {
   "cell_type": "code",
   "execution_count": 8,
   "id": "0f542930",
   "metadata": {},
   "outputs": [],
   "source": [
    "# impute missing value\n",
    "X_data_sj.fillna(method='bfill', inplace=True)\n",
    "X_data_iq.fillna(method='bfill', inplace=True)\n",
    "X_test_sj.fillna(method='bfill', inplace=True)\n",
    "X_test_iq.fillna(method='bfill', inplace=True)"
   ]
  },
  {
   "cell_type": "markdown",
   "id": "996f61fa",
   "metadata": {},
   "source": [
    "## Baseline Tweedie Rergression"
   ]
  },
  {
   "cell_type": "code",
   "execution_count": 10,
   "id": "0ef0a1aa",
   "metadata": {},
   "outputs": [],
   "source": [
    "from sklearn.model_selection import KFold, ParameterGrid\n",
    "from sklearn.linear_model import TweedieRegressor, PoissonRegressor, Lasso\n",
    "from sklearn.metrics import mean_absolute_error\n",
    "from sklearn.svm import SVR"
   ]
  },
  {
   "cell_type": "code",
   "execution_count": 9,
   "id": "4b7c4c74",
   "metadata": {},
   "outputs": [],
   "source": [
    "parameters = {'power':[1.1, 1.3, 1.5, 1.7, 1.9],\n",
    "              \"alpha\": [0.1, 0.5, 1, 2, 5]}\n",
    "searchgrid = ParameterGrid(parameters)"
   ]
  },
  {
   "cell_type": "code",
   "execution_count": 10,
   "id": "ea368454",
   "metadata": {},
   "outputs": [
    {
     "name": "stdout",
     "output_type": "stream",
     "text": [
      "best score and parameters: \n",
      "27.797119536878725\n",
      "{'power': 1.1, 'alpha': 0.5}\n"
     ]
    }
   ],
   "source": [
    "kf = KFold(n_splits = 10, shuffle = False)\n",
    "\n",
    "min_mae = np.inf\n",
    "temp_params = searchgrid[0]\n",
    "\n",
    "for i in range(len(searchgrid)):\n",
    "    print(\"fit pramameter set: \", i, end = \"\\r\", flush = True)\n",
    "    params = searchgrid[i]\n",
    "    temp_val = np.array([])\n",
    "    temp_pred = np.array([])\n",
    "    for i, (train_index, val_index) in enumerate(kf.split(X_data_sj, y_data_sj)):\n",
    "        if i < 5:\n",
    "            continue\n",
    "            \n",
    "        y_train, y_valid = y_data_sj.iloc[0: val_index.min()].copy(), y_data_sj.iloc[val_index].copy()\n",
    "        x_train, x_valid = X_data_sj.iloc[0: val_index.min(),:].copy(), X_data_sj.iloc[val_index,:].copy()\n",
    "        model = TweedieRegressor(power = params['power'], \n",
    "                                 alpha = params['alpha'],\n",
    "                                 max_iter = 10000)\n",
    "        model.fit(x_train, y_train)\n",
    "        \n",
    "        temp_val = np.concatenate((temp_val, y_valid.values), axis=0)\n",
    "        temp_pred = np.concatenate((temp_pred, model.predict(x_valid)), axis=0)\n",
    "    \n",
    "    val_mae = mean_absolute_error(temp_val, temp_pred)\n",
    "    if val_mae < min_mae:\n",
    "        min_mae = val_mae\n",
    "        temp_params = params\n",
    "        \n",
    "print(\"best score and parameters: \")        \n",
    "print(min_mae)\n",
    "print(temp_params)\n",
    "    "
   ]
  },
  {
   "cell_type": "code",
   "execution_count": 11,
   "id": "d5e17a50",
   "metadata": {},
   "outputs": [
    {
     "name": "stdout",
     "output_type": "stream",
     "text": [
      "best score and parameters: \n",
      "6.52594857644575\n",
      "{'power': 1.3, 'alpha': 5}\n"
     ]
    }
   ],
   "source": [
    "kf = KFold(n_splits = 10, shuffle = False)\n",
    "\n",
    "min_mae = np.inf\n",
    "temp_params = searchgrid[0]\n",
    "\n",
    "for i in range(len(searchgrid)):\n",
    "    print(\"fit pramameter set: \", i, end = \"\\r\", flush = True)\n",
    "    params = searchgrid[i]\n",
    "    temp_val = np.array([])\n",
    "    temp_pred = np.array([])\n",
    "    for i, (train_index, val_index) in enumerate(kf.split(X_data_iq, y_data_iq)):\n",
    "        if i < 5:\n",
    "            continue\n",
    "            \n",
    "        y_train, y_valid = y_data_iq.iloc[0: val_index.min()].copy(), y_data_iq.iloc[val_index].copy()\n",
    "        x_train, x_valid = X_data_iq.iloc[0: val_index.min(),:].copy(), X_data_iq.iloc[val_index,:].copy()\n",
    "        model = TweedieRegressor(power = params['power'], \n",
    "                                 alpha = params['alpha'],\n",
    "                                 max_iter = 10000)\n",
    "        model.fit(x_train, y_train)\n",
    "        \n",
    "        temp_val = np.concatenate((temp_val, y_valid.values), axis=0)\n",
    "        temp_pred = np.concatenate((temp_pred, model.predict(x_valid)), axis=0)\n",
    "    \n",
    "    val_mae = mean_absolute_error(temp_val, temp_pred)\n",
    "    if val_mae < min_mae:\n",
    "        min_mae = val_mae\n",
    "        temp_params = params\n",
    "        \n",
    "print(\"best score and parameters: \")        \n",
    "print(min_mae)\n",
    "print(temp_params)\n",
    "    "
   ]
  },
  {
   "cell_type": "markdown",
   "id": "0f2e2ef9",
   "metadata": {},
   "source": [
    "## Baseline Poisson Regression"
   ]
  },
  {
   "cell_type": "code",
   "execution_count": 12,
   "id": "5d2ca847",
   "metadata": {},
   "outputs": [
    {
     "name": "stdout",
     "output_type": "stream",
     "text": [
      "best score and parameters: \n",
      "28.002349462545553\n",
      "{'alpha': 1}\n"
     ]
    }
   ],
   "source": [
    "parameters = {\"alpha\": [0.1, 0.5, 1, 2, 5]}\n",
    "searchgrid = ParameterGrid(parameters)\n",
    "\n",
    "kf = KFold(n_splits = 10, shuffle = False)\n",
    "\n",
    "min_mae = np.inf\n",
    "temp_params = searchgrid[0]\n",
    "\n",
    "for i in range(len(searchgrid)):\n",
    "    print(\"fit pramameter set: \", i, end = \"\\r\", flush = True)\n",
    "    params = searchgrid[i]\n",
    "    temp_val = np.array([])\n",
    "    temp_pred = np.array([])\n",
    "    for i, (train_index, val_index) in enumerate(kf.split(X_data_sj, y_data_sj)):\n",
    "        if i < 5:\n",
    "            continue\n",
    "            \n",
    "        y_train, y_valid = y_data_sj.iloc[0: val_index.min()].copy(), y_data_sj.iloc[val_index].copy()\n",
    "        x_train, x_valid = X_data_sj.iloc[0: val_index.min(),:].copy(), X_data_sj.iloc[val_index,:].copy()\n",
    "        model = PoissonRegressor(alpha = params['alpha'],\n",
    "                                 max_iter = 10000)\n",
    "        model.fit(x_train, y_train)\n",
    "        \n",
    "        temp_val = np.concatenate((temp_val, y_valid.values), axis=0)\n",
    "        temp_pred = np.concatenate((temp_pred, model.predict(x_valid)), axis=0)\n",
    "    \n",
    "    val_mae = mean_absolute_error(temp_val, temp_pred)\n",
    "    if val_mae < min_mae:\n",
    "        min_mae = val_mae\n",
    "        temp_params = params\n",
    "        \n",
    "print(\"best score and parameters: \")        \n",
    "print(min_mae)\n",
    "print(temp_params)\n",
    "    \n",
    "    "
   ]
  },
  {
   "cell_type": "code",
   "execution_count": 13,
   "id": "42a2751b",
   "metadata": {},
   "outputs": [
    {
     "name": "stdout",
     "output_type": "stream",
     "text": [
      "best score and parameters: \n",
      "6.573891448991047\n",
      "{'alpha': 5}\n"
     ]
    }
   ],
   "source": [
    "parameters = {\"alpha\": [0.1, 0.5, 1, 2, 5]}\n",
    "searchgrid = ParameterGrid(parameters)\n",
    "\n",
    "kf = KFold(n_splits = 10, shuffle = False)\n",
    "\n",
    "min_mae = np.inf\n",
    "temp_params = searchgrid[0]\n",
    "\n",
    "for i in range(len(searchgrid)):\n",
    "    print(\"fit pramameter set: \", i, end = \"\\r\", flush = True)\n",
    "    params = searchgrid[i]\n",
    "    temp_val = np.array([])\n",
    "    temp_pred = np.array([])\n",
    "    for i, (train_index, val_index) in enumerate(kf.split(X_data_iq, y_data_iq)):\n",
    "        if i < 5:\n",
    "            continue\n",
    "            \n",
    "        y_train, y_valid = y_data_iq.iloc[0: val_index.min()].copy(), y_data_iq.iloc[val_index].copy()\n",
    "        x_train, x_valid = X_data_iq.iloc[0: val_index.min(),:].copy(), X_data_iq.iloc[val_index,:].copy()\n",
    "        model = PoissonRegressor(alpha = params['alpha'],\n",
    "                                 max_iter = 10000)\n",
    "        model.fit(x_train, y_train)\n",
    "        \n",
    "        temp_val = np.concatenate((temp_val, y_valid.values), axis=0)\n",
    "        temp_pred = np.concatenate((temp_pred, model.predict(x_valid)), axis=0)\n",
    "    \n",
    "    val_mae = mean_absolute_error(temp_val, temp_pred)\n",
    "    if val_mae < min_mae:\n",
    "        min_mae = val_mae\n",
    "        temp_params = params\n",
    "        \n",
    "print(\"best score and parameters: \")        \n",
    "print(min_mae)\n",
    "print(temp_params)\n",
    "    \n",
    "    "
   ]
  },
  {
   "cell_type": "markdown",
   "id": "fc8dfcf6",
   "metadata": {},
   "source": [
    "## Basline XGBOOST Model - with tweedie objective"
   ]
  },
  {
   "cell_type": "code",
   "execution_count": 109,
   "id": "ad7fb631",
   "metadata": {},
   "outputs": [
    {
     "name": "stdout",
     "output_type": "stream",
     "text": [
      "best score and parameters: \n",
      "11.773951985805331\n",
      "{'tweedie_variance_power': 1.1, 'tree_method': 'hist', 'subsample': 0.8, 'reg_alpha': 0, 'objective': 'reg:tweedie', 'min_child_weight': 1, 'max_leaves': 5, 'max_bin': 256, 'grow_policy': 'lossguide', 'gamma': 0, 'eval_metric': 'mae', 'eta': 0.1, 'booster': 'gbtree'}\n",
      "8.4\n"
     ]
    }
   ],
   "source": [
    "parameters = {\"objective\": [\"reg:tweedie\"],\n",
    "              \"booster\":[\"gbtree\"],\n",
    "              \"grow_policy\": [\"lossguide\"],\n",
    "              \"tweedie_variance_power\":[1.1, 1.5, 1.9],\n",
    "              \"eta\":[0.1],\n",
    "              \"max_leaves\":[3, 5, 7, 9],\n",
    "              \"min_child_weight\":[1, 20],\n",
    "              \"tree_method\":[\"hist\"],\n",
    "              \"max_bin\": [256],\n",
    "              \"subsample\":[1, 0.8],\n",
    "              \"gamma\":[0],\n",
    "              \"reg_alpha\":[0, 5, 10],\n",
    "              \"eval_metric\":[\"mae\"]}\n",
    "\n",
    "searchgrid = ParameterGrid(parameters)\n",
    "kf = KFold(n_splits = 10, shuffle = False)\n",
    "best_tree = 0\n",
    "\n",
    "min_mae = np.inf\n",
    "temp_params = searchgrid[0]\n",
    "\n",
    "for i in range(len(searchgrid)):\n",
    "    print(\"fit pramameter set: \", i, end = \"\\r\", flush = True)\n",
    "    params = searchgrid[i]\n",
    "    temp_val = np.array([])\n",
    "    temp_pred = np.array([])\n",
    "    temp_tree = 0\n",
    "    count = 0\n",
    "    for i, (train_index, val_index) in enumerate(kf.split(X_data_sj, y_data_sj)):\n",
    "        if i < 5:\n",
    "            continue\n",
    "            \n",
    "        y_train, y_valid = y_data_sj.iloc[0: val_index.min()].copy(), y_data_sj.iloc[val_index].copy()\n",
    "        x_train, x_valid = X_data_sj.iloc[0: val_index.min(),:].copy(), X_data_sj.iloc[val_index,:].copy()\n",
    "        \n",
    "        dtrain = xgb.DMatrix(x_train, label = y_train)\n",
    "        dvalid = xgb.DMatrix(x_valid, label = y_valid)\n",
    "        \n",
    "        watchlist = [(dtrain, \"train\"), \n",
    "                     (dvalid, \"valid\")]\n",
    "        \n",
    "        model = xgb.train(params, dtrain, 10000, watchlist, early_stopping_rounds = 10, verbose_eval=False)\n",
    "            \n",
    "        temp_val = np.concatenate((temp_val, y_valid.values), axis=0)\n",
    "        temp_pred = np.concatenate((temp_pred, \n",
    "                                    model.predict(xgb.DMatrix(x_valid), \n",
    "                                                  ntree_limit = model.best_ntree_limit)), \n",
    "                                   axis=0)\n",
    "        temp_tree += model.best_ntree_limit\n",
    "        count += 1\n",
    "    \n",
    "    val_mae = mean_absolute_error(temp_val, temp_pred)\n",
    "    if val_mae < min_mae:\n",
    "        min_mae = val_mae\n",
    "        temp_params = params\n",
    "        best_tree = temp_tree/count\n",
    "        \n",
    "print(\"best score and parameters: \")        \n",
    "print(min_mae)\n",
    "print(temp_params)\n",
    "print(best_tree)"
   ]
  },
  {
   "cell_type": "code",
   "execution_count": 110,
   "id": "6caa9623",
   "metadata": {},
   "outputs": [
    {
     "name": "stdout",
     "output_type": "stream",
     "text": [
      "best score and parameters: \n",
      "5.558559762973052\n",
      "{'tweedie_variance_power': 1.1, 'tree_method': 'hist', 'subsample': 0.8, 'reg_alpha': 0, 'objective': 'reg:tweedie', 'min_child_weight': 1, 'max_leaves': 7, 'max_bin': 256, 'grow_policy': 'lossguide', 'gamma': 0, 'eval_metric': 'mae', 'eta': 0.1, 'booster': 'gbtree'}\n",
      "18.2\n"
     ]
    }
   ],
   "source": [
    "parameters = {\"objective\": [\"reg:tweedie\"],\n",
    "              \"booster\":[\"gbtree\"],\n",
    "              \"grow_policy\": [\"lossguide\"],\n",
    "              \"tweedie_variance_power\":[1.1, 1.5, 1.9],\n",
    "              \"eta\":[0.1],\n",
    "              \"max_leaves\":[3, 5, 7, 9],\n",
    "              \"min_child_weight\":[1, 20],\n",
    "              \"tree_method\":[\"hist\"],\n",
    "              \"max_bin\": [256],\n",
    "              \"subsample\":[1, 0.8],\n",
    "              \"gamma\":[0],\n",
    "              \"reg_alpha\":[0, 5, 10],\n",
    "              \"eval_metric\":[\"mae\"]}\n",
    "\n",
    "searchgrid = ParameterGrid(parameters)\n",
    "kf = KFold(n_splits = 10, shuffle = False)\n",
    "best_tree = 0\n",
    "\n",
    "min_mae = np.inf\n",
    "temp_params = searchgrid[0]\n",
    "\n",
    "for i in range(len(searchgrid)):\n",
    "    print(\"fit pramameter set: \", i, end = \"\\r\", flush = True)\n",
    "    params = searchgrid[i]\n",
    "    temp_val = np.array([])\n",
    "    temp_pred = np.array([])\n",
    "    temp_tree = 0\n",
    "    count = 0\n",
    "    for i, (train_index, val_index) in enumerate(kf.split(X_data_iq, y_data_iq)):\n",
    "        if i < 5:\n",
    "            continue\n",
    "            \n",
    "        y_train, y_valid = y_data_iq.iloc[0: val_index.min()].copy(), y_data_iq.iloc[val_index].copy()\n",
    "        x_train, x_valid = X_data_iq.iloc[0: val_index.min(),:].copy(), X_data_iq.iloc[val_index,:].copy()\n",
    "        \n",
    "        dtrain = xgb.DMatrix(x_train, label = y_train)\n",
    "        dvalid = xgb.DMatrix(x_valid, label = y_valid)\n",
    "        \n",
    "        watchlist = [(dtrain, \"train\"), \n",
    "                     (dvalid, \"valid\")]\n",
    "        \n",
    "        model = xgb.train(params, dtrain, 10000, watchlist, early_stopping_rounds = 10, verbose_eval=False)\n",
    "            \n",
    "        temp_val = np.concatenate((temp_val, y_valid.values), axis=0)\n",
    "        temp_pred = np.concatenate((temp_pred, \n",
    "                                    model.predict(xgb.DMatrix(x_valid), \n",
    "                                                  ntree_limit = model.best_ntree_limit)), \n",
    "                                   axis=0)\n",
    "        temp_tree += model.best_ntree_limit\n",
    "        count += 1\n",
    "    \n",
    "    val_mae = mean_absolute_error(temp_val, temp_pred)\n",
    "    if val_mae < min_mae:\n",
    "        min_mae = val_mae\n",
    "        temp_params = params\n",
    "        best_tree = temp_tree/count\n",
    "        \n",
    "print(\"best score and parameters: \")        \n",
    "print(min_mae)\n",
    "print(temp_params)\n",
    "print(best_tree)"
   ]
  },
  {
   "cell_type": "markdown",
   "id": "18321098",
   "metadata": {},
   "source": [
    "## Baseline XGBOOST - with poisson distribution"
   ]
  },
  {
   "cell_type": "code",
   "execution_count": 17,
   "id": "5539211a",
   "metadata": {},
   "outputs": [
    {
     "name": "stdout",
     "output_type": "stream",
     "text": [
      "best score and parameters: \n",
      "13.505213516464561\n",
      "{'tree_method': 'hist', 'subsample': 1, 'reg_alpha': 10, 'objective': 'count:poisson', 'min_child_weight': 20, 'max_leaves': 9, 'max_bin': 256, 'grow_policy': 'lossguide', 'gamma': 0, 'eval_metric': 'mae', 'eta': 0.1, 'booster': 'gbtree'}\n"
     ]
    }
   ],
   "source": [
    "parameters = {\"objective\": [\"count:poisson\"],\n",
    "              \"booster\":[\"gbtree\"],\n",
    "              \"grow_policy\": [\"lossguide\"],\n",
    "              \"eta\":[0.1],\n",
    "              \"max_leaves\":[3, 5, 7, 9],\n",
    "              \"min_child_weight\":[1, 20],\n",
    "              \"tree_method\":[\"hist\"],\n",
    "              \"max_bin\": [256],\n",
    "              \"subsample\":[1, 0.8],\n",
    "              \"gamma\":[0],\n",
    "              \"reg_alpha\":[0, 5, 10],\n",
    "              \"eval_metric\":[\"mae\"]}\n",
    "\n",
    "searchgrid = ParameterGrid(parameters)\n",
    "kf = KFold(n_splits = 10, shuffle = False)\n",
    "\n",
    "min_mae = np.inf\n",
    "temp_params = searchgrid[0]\n",
    "\n",
    "for i in range(len(searchgrid)):\n",
    "    print(\"fit pramameter set: \", i, end = \"\\r\", flush = True)\n",
    "    params = searchgrid[i]\n",
    "    temp_val = np.array([])\n",
    "    temp_pred = np.array([])\n",
    "    for i, (train_index, val_index) in enumerate(kf.split(X_data_sj, y_data_sj)):\n",
    "        if i < 5:\n",
    "            continue\n",
    "            \n",
    "        y_train, y_valid = y_data_sj.iloc[0: val_index.min()].copy(), y_data_sj.iloc[val_index].copy()\n",
    "        x_train, x_valid = X_data_sj.iloc[0: val_index.min(),:].copy(), X_data_sj.iloc[val_index,:].copy()\n",
    "        \n",
    "        dtrain = xgb.DMatrix(x_train, label = y_train)\n",
    "        dvalid = xgb.DMatrix(x_valid, label = y_valid)\n",
    "        \n",
    "        watchlist = [(dtrain, \"train\"), \n",
    "                     (dvalid, \"valid\")]\n",
    "        \n",
    "        model = xgb.train(params, dtrain, 10000, watchlist, early_stopping_rounds = 10, verbose_eval=False)\n",
    "            \n",
    "        temp_val = np.concatenate((temp_val, y_valid.values), axis=0)\n",
    "        temp_pred = np.concatenate((temp_pred, \n",
    "                                    model.predict(xgb.DMatrix(x_valid), \n",
    "                                                  ntree_limit = model.best_ntree_limit)), \n",
    "                                   axis=0)\n",
    "    \n",
    "    val_mae = mean_absolute_error(temp_val, temp_pred)\n",
    "    if val_mae < min_mae:\n",
    "        min_mae = val_mae\n",
    "        temp_params = params\n",
    "        \n",
    "print(\"best score and parameters: \")        \n",
    "print(min_mae)\n",
    "print(temp_params)"
   ]
  },
  {
   "cell_type": "code",
   "execution_count": 18,
   "id": "e449390a",
   "metadata": {},
   "outputs": [
    {
     "name": "stdout",
     "output_type": "stream",
     "text": [
      "best score and parameters: \n",
      "5.876943994485415\n",
      "{'tree_method': 'hist', 'subsample': 0.8, 'reg_alpha': 10, 'objective': 'count:poisson', 'min_child_weight': 20, 'max_leaves': 3, 'max_bin': 256, 'grow_policy': 'lossguide', 'gamma': 0, 'eval_metric': 'mae', 'eta': 0.1, 'booster': 'gbtree'}\n"
     ]
    }
   ],
   "source": [
    "parameters = {\"objective\": [\"count:poisson\"],\n",
    "              \"booster\":[\"gbtree\"],\n",
    "              \"grow_policy\": [\"lossguide\"],\n",
    "              \"eta\":[0.1],\n",
    "              \"max_leaves\":[3, 5, 7, 9],\n",
    "              \"min_child_weight\":[1, 20],\n",
    "              \"tree_method\":[\"hist\"],\n",
    "              \"max_bin\": [256],\n",
    "              \"subsample\":[1, 0.8],\n",
    "              \"gamma\":[0],\n",
    "              \"reg_alpha\":[0, 5, 10],\n",
    "              \"eval_metric\":[\"mae\"]}\n",
    "\n",
    "searchgrid = ParameterGrid(parameters)\n",
    "kf = KFold(n_splits = 10, shuffle = False)\n",
    "\n",
    "min_mae = np.inf\n",
    "temp_params = searchgrid[0]\n",
    "\n",
    "for i in range(len(searchgrid)):\n",
    "    print(\"fit pramameter set: \", i, end = \"\\r\", flush = True)\n",
    "    params = searchgrid[i]\n",
    "    temp_val = np.array([])\n",
    "    temp_pred = np.array([])\n",
    "    for i, (train_index, val_index) in enumerate(kf.split(X_data_iq, y_data_iq)):\n",
    "        if i < 5:\n",
    "            continue\n",
    "            \n",
    "        y_train, y_valid = y_data_iq.iloc[0: val_index.min()].copy(), y_data_iq.iloc[val_index].copy()\n",
    "        x_train, x_valid = X_data_iq.iloc[0: val_index.min(),:].copy(), X_data_iq.iloc[val_index,:].copy()\n",
    "        \n",
    "        dtrain = xgb.DMatrix(x_train, label = y_train)\n",
    "        dvalid = xgb.DMatrix(x_valid, label = y_valid)\n",
    "        \n",
    "        watchlist = [(dtrain, \"train\"), \n",
    "                     (dvalid, \"valid\")]\n",
    "        \n",
    "        model = xgb.train(params, dtrain, 10000, watchlist, early_stopping_rounds = 10, verbose_eval=False)\n",
    "            \n",
    "        temp_val = np.concatenate((temp_val, y_valid.values), axis=0)\n",
    "        temp_pred = np.concatenate((temp_pred, \n",
    "                                    model.predict(xgb.DMatrix(x_valid), \n",
    "                                                  ntree_limit = model.best_ntree_limit)), \n",
    "                                   axis=0)\n",
    "    \n",
    "    val_mae = mean_absolute_error(temp_val, temp_pred)\n",
    "    if val_mae < min_mae:\n",
    "        min_mae = val_mae\n",
    "        temp_params = params\n",
    "        \n",
    "print(\"best score and parameters: \")        \n",
    "print(min_mae)\n",
    "print(temp_params)"
   ]
  },
  {
   "cell_type": "markdown",
   "id": "0cc27045",
   "metadata": {},
   "source": [
    "## Basline SVM"
   ]
  },
  {
   "cell_type": "code",
   "execution_count": 19,
   "id": "8a8182ef",
   "metadata": {},
   "outputs": [],
   "source": [
    "parameters = {\"C\": [1e0, 1e1, 1e2, 1e3],\n",
    "              \"gamma\": np.logspace(-2, 2, 5)}\n",
    "searchgrid = ParameterGrid(parameters)"
   ]
  },
  {
   "cell_type": "code",
   "execution_count": 20,
   "id": "840c301e",
   "metadata": {},
   "outputs": [
    {
     "name": "stdout",
     "output_type": "stream",
     "text": [
      "best score and parameters: \n",
      "16.617660684578222\n",
      "{'gamma': 0.01, 'C': 100.0}\n"
     ]
    }
   ],
   "source": [
    "kf = KFold(n_splits = 10, shuffle = False)\n",
    "\n",
    "min_mae = np.inf\n",
    "temp_params = searchgrid[0]\n",
    "\n",
    "for i in range(len(searchgrid)):\n",
    "    print(\"fit pramameter set: \", i, end = \"\\r\", flush = True)\n",
    "    params = searchgrid[i]\n",
    "    temp_val = np.array([])\n",
    "    temp_pred = np.array([])\n",
    "    for i, (train_index, val_index) in enumerate(kf.split(X_data_sj, y_data_sj)):\n",
    "        if i < 5:\n",
    "            continue\n",
    "            \n",
    "        y_train, y_valid = y_data_sj.iloc[0: val_index.min()].copy(), y_data_sj.iloc[val_index].copy()\n",
    "        x_train, x_valid = X_data_sj.iloc[0: val_index.min(),:].copy(), X_data_sj.iloc[val_index,:].copy()\n",
    "        model = SVR(kernel = 'rbf',\n",
    "                    C = params['C'],\n",
    "                    max_iter = 10000)\n",
    "        model.fit(x_train, y_train)\n",
    "        \n",
    "        temp_val = np.concatenate((temp_val, y_valid.values), axis=0)\n",
    "        temp_pred = np.concatenate((temp_pred, model.predict(x_valid)), axis=0)\n",
    "    \n",
    "    val_mae = mean_absolute_error(temp_val, temp_pred)\n",
    "    if val_mae < min_mae:\n",
    "        min_mae = val_mae\n",
    "        temp_params = params\n",
    "        \n",
    "print(\"best score and parameters: \")        \n",
    "print(min_mae)\n",
    "print(temp_params)"
   ]
  },
  {
   "cell_type": "code",
   "execution_count": 21,
   "id": "43048d1a",
   "metadata": {},
   "outputs": [
    {
     "name": "stdout",
     "output_type": "stream",
     "text": [
      "best score and parameters: \n",
      "6.287373425732103\n",
      "{'gamma': 0.01, 'C': 100.0}\n"
     ]
    }
   ],
   "source": [
    "kf = KFold(n_splits = 10, shuffle = False)\n",
    "\n",
    "min_mae = np.inf\n",
    "temp_params = searchgrid[0]\n",
    "\n",
    "for i in range(len(searchgrid)):\n",
    "    print(\"fit pramameter set: \", i, end = \"\\r\", flush = True)\n",
    "    params = searchgrid[i]\n",
    "    temp_val = np.array([])\n",
    "    temp_pred = np.array([])\n",
    "    for i, (train_index, val_index) in enumerate(kf.split(X_data_iq, y_data_iq)):\n",
    "        if i < 5:\n",
    "            continue\n",
    "            \n",
    "        y_train, y_valid = y_data_iq.iloc[0: val_index.min()].copy(), y_data_iq.iloc[val_index].copy()\n",
    "        x_train, x_valid = X_data_iq.iloc[0: val_index.min(),:].copy(), X_data_iq.iloc[val_index,:].copy()\n",
    "        model = SVR(kernel = 'rbf',\n",
    "                    C = params['C'],\n",
    "                    max_iter = 10000)\n",
    "        model.fit(x_train, y_train)\n",
    "        \n",
    "        temp_val = np.concatenate((temp_val, y_valid.values), axis=0)\n",
    "        temp_pred = np.concatenate((temp_pred, model.predict(x_valid)), axis=0)\n",
    "    \n",
    "    val_mae = mean_absolute_error(temp_val, temp_pred)\n",
    "    if val_mae < min_mae:\n",
    "        min_mae = val_mae\n",
    "        temp_params = params\n",
    "        \n",
    "print(\"best score and parameters: \")        \n",
    "print(min_mae)\n",
    "print(temp_params)"
   ]
  },
  {
   "cell_type": "markdown",
   "id": "1b659b5e",
   "metadata": {},
   "source": [
    "## Build Final Baseline Model"
   ]
  },
  {
   "cell_type": "code",
   "execution_count": 18,
   "id": "ad81f5da",
   "metadata": {},
   "outputs": [
    {
     "name": "stdout",
     "output_type": "stream",
     "text": [
      "21.619624937191986\n"
     ]
    }
   ],
   "source": [
    "dtrain = xgb.DMatrix(X_data_sj, label = y_data_sj)\n",
    "dtest = xgb.DMatrix(X_test_sj)\n",
    "\n",
    "parameters = {\"objective\": \"reg:tweedie\",\n",
    "              \"booster\":\"gbtree\",\n",
    "              \"grow_policy\": \"lossguide\",\n",
    "              \"tweedie_variance_power\":1.1,\n",
    "              \"eta\":0.1,\n",
    "              \"max_leaves\":5,\n",
    "              \"min_child_weight\":1,\n",
    "              \"tree_method\":\"hist\",\n",
    "              \"max_bin\":256,\n",
    "              \"subsample\":0.8,\n",
    "              \"gamma\":0,\n",
    "              \"reg_alpha\":0}\n",
    "\n",
    "model = xgb.train(parameters, dtrain, num_boost_round = 9)\n",
    "print(mean_absolute_error(y_data_sj, model.predict(xgb.DMatrix(X_data_sj))))\n",
    "\n",
    "\n",
    "sj_prediction = model.predict(dtest).astype(int)\n",
    "sj_train_pred = model.predict(xgb.DMatrix(X_data_sj)).astype(int)"
   ]
  },
  {
   "cell_type": "code",
   "execution_count": 19,
   "id": "4c5da23d",
   "metadata": {},
   "outputs": [],
   "source": [
    "dtrain = xgb.DMatrix(X_data_iq, label = y_data_iq)\n",
    "dtest = xgb.DMatrix(X_test_iq)\n",
    "\n",
    "parameters = {\"objective\": \"reg:tweedie\",\n",
    "              \"booster\":\"gbtree\",\n",
    "              \"grow_policy\": \"lossguide\",\n",
    "              \"tweedie_variance_power\":1.1,\n",
    "              \"eta\":0.1,\n",
    "              \"max_leaves\":7,\n",
    "              \"min_child_weight\":1,\n",
    "              \"tree_method\":\"hist\",\n",
    "              \"max_bin\":256,\n",
    "              \"subsample\":0.8,\n",
    "              \"gamma\":0,\n",
    "              \"reg_alpha\":0}\n",
    "\n",
    "model = xgb.train(parameters, dtrain, num_boost_round = 42)\n",
    "iq_prediction = model.predict(dtest).astype(int)\n",
    "iq_train_pred = model.predict(xgb.DMatrix(X_data_iq)).astype(int)"
   ]
  },
  {
   "cell_type": "code",
   "execution_count": 20,
   "id": "6eb5bbdf",
   "metadata": {},
   "outputs": [],
   "source": [
    "base_line_test = np.concatenate([sj_prediction, iq_prediction])\n",
    "base_line_train = np.concatenate([sj_train_pred, iq_train_pred])\n",
    "base_line_true = np.concatenate([y_data_sj, y_data_iq])"
   ]
  },
  {
   "cell_type": "code",
   "execution_count": 30,
   "id": "61f35001",
   "metadata": {},
   "outputs": [
    {
     "data": {
      "text/plain": [
       "Text(0.5, 1.0, 'pred vs actual on train data')"
      ]
     },
     "execution_count": 30,
     "metadata": {},
     "output_type": "execute_result"
    },
    {
     "data": {
      "image/png": "[encoded data removed]",
      "text/plain": [
       "<Figure size 432x288 with 1 Axes>"
      ]
     },
     "metadata": {
      "needs_background": "light"
     },
     "output_type": "display_data"
    }
   ],
   "source": [
    "plt.plot(base_line_train, label = \"prediction\")\n",
    "plt.plot(base_line_true, label = \"actual\")\n",
    "plt.legend()\n",
    "plt.xlabel(\"time\")\n",
    "plt.ylabel(\"cases\")\n",
    "plt.title(\"pred vs actual on train data\")"
   ]
  },
  {
   "cell_type": "code",
   "execution_count": 31,
   "id": "362ba6b2",
   "metadata": {},
   "outputs": [
    {
     "data": {
      "text/plain": [
       "Text(0.5, 1.0, 'prediction on test set')"
      ]
     },
     "execution_count": 31,
     "metadata": {},
     "output_type": "execute_result"
    },
    {
     "data": {
      "image/png": "[encoded data removed]",
      "text/plain": [
       "<Figure size 432x288 with 1 Axes>"
      ]
     },
     "metadata": {
      "needs_background": "light"
     },
     "output_type": "display_data"
    }
   ],
   "source": [
    "plt.plot(base_line_test, label = \"prediction - test\")\n",
    "plt.legend()\n",
    "plt.xlabel(\"time\")\n",
    "plt.ylabel(\"cases\")\n",
    "plt.title(\"prediction on test set\")"
   ]
  },
  {
   "cell_type": "code",
   "execution_count": 141,
   "id": "759c20b3",
   "metadata": {},
   "outputs": [],
   "source": [
    "submission = pd.read_csv(\"../data/submission_format.csv\",\n",
    "                         index_col=[0, 1, 2])\n",
    "submission[\"total_cases\"] = base_line\n",
    "submission.to_csv(\"mvp_xgb2_csv\")"
   ]
  },
  {
   "cell_type": "code",
   "execution_count": null,
   "id": "2b9740ae",
   "metadata": {},
   "outputs": [],
   "source": []
  },
  {
   "cell_type": "code",
   "execution_count": null,
   "id": "7922c419",
   "metadata": {},
   "outputs": [],
   "source": []
  },
  {
   "cell_type": "code",
   "execution_count": null,
   "id": "afdb33c1",
   "metadata": {},
   "outputs": [],
   "source": []
  }
 ],
 "metadata": {
  "kernelspec": {
   "display_name": "Python 3 (ipykernel)",
   "language": "python",
   "name": "python3"
  },
  "language_info": {
   "codemirror_mode": {
    "name": "ipython",
    "version": 3
   },
   "file_extension": ".py",
   "mimetype": "text/x-python",
   "name": "python",
   "nbconvert_exporter": "python",
   "pygments_lexer": "ipython3",
   "version": "3.7.10"
  },
  "toc": {
   "base_numbering": 1,
   "nav_menu": {},
   "number_sections": true,
   "sideBar": true,
   "skip_h1_title": false,
   "title_cell": "Table of Contents",
   "title_sidebar": "Contents",
   "toc_cell": false,
   "toc_position": {},
   "toc_section_display": true,
   "toc_window_display": false
  }
 },
 "nbformat": 4,
 "nbformat_minor": 5
}
