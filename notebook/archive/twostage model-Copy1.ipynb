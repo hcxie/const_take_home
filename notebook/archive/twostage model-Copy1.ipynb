{
 "cells": [
  {
   "cell_type": "code",
   "execution_count": 1,
   "id": "952c8c2f",
   "metadata": {},
   "outputs": [
    {
     "name": "stdout",
     "output_type": "stream",
     "text": [
      "G:\\operation d\\active project\\const_hw\n"
     ]
    }
   ],
   "source": [
    "%cd .."
   ]
  },
  {
   "cell_type": "code",
   "execution_count": 58,
   "id": "1ae11311",
   "metadata": {},
   "outputs": [],
   "source": [
    "from imblearn.pipeline import make_pipeline as imblearn_make_pipeline\n",
    "from imblearn.over_sampling import SMOTE\n",
    "from src._helper_class import *\n",
    "import xgboost as xgb\n",
    "from xgboost import XGBRegressor, XGBClassifier\n",
    "from sklearn.linear_model import LogisticRegression, LinearRegression, PoissonRegressor\n",
    "from sklearn.metrics import mean_absolute_error\n",
    "from sklearn.svm import SVC, SVR\n",
    "from sklearn.model_selection import GridSearchCV, TimeSeriesSplit, cross_val_score\n",
    "from sklearn.metrics import mean_absolute_error, average_precision_score, precision_recall_curve\n",
    "\n",
    "#import warnings\n",
    "#warnings.filterwarnings('ignore')"
   ]
  },
  {
   "cell_type": "code",
   "execution_count": 59,
   "id": "be3e5124",
   "metadata": {},
   "outputs": [],
   "source": [
    "import matplotlib.pyplot as plt"
   ]
  },
  {
   "cell_type": "code",
   "execution_count": 60,
   "id": "6fa2ed4c",
   "metadata": {},
   "outputs": [],
   "source": [
    "# load data\n",
    "train_data = pd.read_csv(\"data/dengue_features_train.csv\")\n",
    "train_label = pd.read_csv(\"data/dengue_labels_train.csv\")\n",
    "test_data = pd.read_csv(\"data/dengue_features_test.csv\")"
   ]
  },
  {
   "cell_type": "code",
   "execution_count": 61,
   "id": "e856cb56",
   "metadata": {},
   "outputs": [],
   "source": [
    "# classification pipeline\n",
    "clf_scoring_fsel = 'average_precision'\n",
    "clf_scoring_tuning = \"roc_auc\"\n",
    "\n",
    "clf_pipeline = imblearn_make_pipeline(\n",
    "    Dengue_cat_encoder(),\n",
    "    Stationarity_adjustment(),\n",
    "    Feature_argumentation1(),\n",
    "    Standardization(),\n",
    "    Imputer(),\n",
    "    Feature_argumentation2(),\n",
    "    Feature_argumentation3(),\n",
    "    Feature_selection(cv_metric = clf_scoring_fsel,\n",
    "                      classify_mode = 1),\n",
    "    SMOTE(),\n",
    "    General_estimator()\n",
    ")\n",
    "\n",
    "clf_parameters = [\n",
    "    {\"general_estimator__estimator\": [XGBClassifier(grow_policy = \"lossguide\",\n",
    "                                                   objective = \"binary:logistic\",\n",
    "                                                   booster = \"gbtree\",\n",
    "                                                   tree_method = \"hist\",\n",
    "                                                   eta = 0.1\n",
    "                                                   )\n",
    "                                     ],\n",
    "     \"feature_selection__estimator\": [XGBClassifier(objective = \"binary:logistic\",\n",
    "                                                   booster = \"gbtree\",\n",
    "                                                   tree_method = \"hist\")\n",
    "                                     ],\n",
    "     \"general_estimator__estimator__n_estimators\": [5, 8, 11, 14, 17], #[5, 8, 11, 14, 17],\n",
    "     \"general_estimator__estimator__max_leaves\": [3, 5, 7, 9], #[3, 5, 7, 9],\n",
    "     \"general_estimator__estimator__min_child_weight\": [1, 20],\n",
    "     \"general_estimator__estimator__subsample\": [1]\n",
    "     \n",
    "    }\n",
    "\n",
    "]\n",
    "\n",
    "\n",
    "# regression pipeline\n",
    "\n",
    "reg_scoring = \"r2\"\n",
    "\n",
    "reg_pipeline = imblearn_make_pipeline(\n",
    "    Dengue_cat_encoder(),\n",
    "    Stationarity_adjustment(),\n",
    "    Feature_argumentation1(),\n",
    "    Standardization(),\n",
    "    Imputer(),\n",
    "    Feature_argumentation2(),\n",
    "    Feature_argumentation3(),\n",
    "    Feature_selection(),\n",
    "    General_estimator()\n",
    ")\n",
    "\n",
    "reg_parameters = [\n",
    "    {\"general_estimator__estimator\": [XGBRegressor(grow_policy = \"lossguide\",\n",
    "                                                   objective = \"reg:squarederror\",\n",
    "                                                   booster = \"gbtree\",\n",
    "                                                   tree_method = \"hist\",\n",
    "                                                   eta = 0.1\n",
    "                                                   )\n",
    "                                     ],\n",
    "     \"feature_selection__estimator\": [XGBRegressor(objective = \"reg:squarederror\",\n",
    "                                                   booster = \"gbtree\",\n",
    "                                                   tree_method = \"hist\"\n",
    "                                                   )\n",
    "                                     ],\n",
    "     \"general_estimator__estimator__n_estimators\": [5, 8, 11, 14, 17],\n",
    "     \"general_estimator__estimator__max_leaves\": [3, 5, 7, 9],\n",
    "     \"general_estimator__estimator__min_child_weight\": [1],\n",
    "     \"general_estimator__estimator__subsample\": [1],\n",
    "     \"general_estimator__severity_mode\": [1],\n",
    "\n",
    "    },\n",
    "    \n",
    "    {\"general_estimator__estimator\": [PoissonRegressor(max_iter = 10000)],\n",
    "     \"feature_selection__estimator\": [PoissonRegressor(max_iter = 10000)],\n",
    "     \"general_estimator__estimator__alpha\": [1e-1, 1e0, 1e1, 1e2, 1e3],#[1e-1, 1e0, 1e1, 1e2, 1e3],\n",
    "     \"general_estimator__severity_mode\": [1]     \n",
    "    },\n",
    "    \n",
    "    {\"general_estimator__estimator\": [SVR(kernel = 'rbf',\n",
    "                                          max_iter = 10000)\n",
    "                                     ],\n",
    "     \"feature_selection__estimator\": [SVR(kernel = 'rbf',\n",
    "                                          max_iter = 10000)\n",
    "                                     ],\n",
    "     \"general_estimator__estimator__C\": [1e-1, 1e0, 1e1, 1e2, 1e3], #[1e-1, 1e0, 1e1, 1e2, 1e3],\n",
    "     \"general_estimator__severity_mode\": [1]    \n",
    "    }\n",
    "\n",
    "]\n"
   ]
  },
  {
   "cell_type": "code",
   "execution_count": 6,
   "id": "537424e7",
   "metadata": {},
   "outputs": [],
   "source": [
    "def clf_model_fit_transform(city, \n",
    "                            threshold, \n",
    "                            train_data, \n",
    "                            train_label, \n",
    "                            test_data, \n",
    "                            model_scoring, \n",
    "                            model_pipeline, \n",
    "                            model_parameters):\n",
    "    \n",
    "    train_data = train_data.loc[train_data[\"city\"] == city,:].copy()\n",
    "    train_data.reset_index(drop = True, inplace = True)\n",
    "    X = train_data.drop(columns = [\"city\"])\n",
    "    \n",
    "    Y = train_label.loc[train_label[\"city\"] == city,:].copy()\n",
    "    Y.reset_index(drop = True, inplace = True)\n",
    "    Y = Y[\"total_cases\"]\n",
    "    \n",
    "    Y_threshold = np.percentile(Y, threshold)\n",
    "    \n",
    "    Y = (Y >= Y_threshold).astype(int)\n",
    "    \n",
    "    test_data = test_data.loc[test_data[\"city\"] == city,:].copy()\n",
    "    test_data.reset_index(drop = True, inplace = True)\n",
    "    X_test = test_data.drop(columns = [\"city\"])\n",
    "    \n",
    "    #model_parameters[0][\"general_estimator__estimator__scale_pos_weight\"] = [len(Y)/Y.sum()]\n",
    "    \n",
    "    cv_num = 5\n",
    "    if city == \"iq\":\n",
    "        cv_num = 5\n",
    "\n",
    "    model_gscv = GridSearchCV(estimator = model_pipeline, \n",
    "                              param_grid = model_parameters, \n",
    "                              scoring = model_scoring, \n",
    "                              cv = cv_num, \n",
    "                              verbose = 1,\n",
    "                              n_jobs = -1,\n",
    "                              return_train_score = True,\n",
    "                              error_score = 0)\n",
    "    \n",
    "    model_gscv.fit(X, Y)\n",
    "    \n",
    "    print(\"The select parameters:\")\n",
    "    print(list(model_gscv.best_params_.items())[2:])\n",
    "    \n",
    "    pred_train = model_gscv.best_estimator_.predict_proba(X)[:,1]\n",
    "       \n",
    "    precision, recall, thresholds = precision_recall_curve(Y, pred_train)\n",
    "    \n",
    "    threshold_index = np.argmax(precision)\n",
    "    if threshold_index > len(thresholds) - 1:\n",
    "        threshold_index -= 1\n",
    "    cls_threshold = thresholds[threshold_index]\n",
    "    \n",
    "    print(cls_threshold)\n",
    "    \n",
    "    \n",
    "    pred_test = model_gscv.best_estimator_.predict_proba(X_test)[:,1]\n",
    "    \n",
    "    pred_test = (pred_test >= cls_threshold).astype(int)\n",
    "    pred_train = (pred_train >= cls_threshold).astype(int)\n",
    "    \n",
    "    out_name = str(threshold) + \"_cls\"\n",
    "        \n",
    "    train_data[out_name] = pred_train\n",
    "    test_data[out_name] = pred_test\n",
    "    \n",
    "    return train_data[[\"city\", \"week_start_date\", out_name]], test_data[[\"city\", \"week_start_date\", out_name]], model_gscv\n",
    "\n",
    "def severity_model_fit_transform_v2(city, \n",
    "                                 threshold, \n",
    "                                 train_data, \n",
    "                                 train_label, \n",
    "                                 test_data, \n",
    "                                 model_scoring, \n",
    "                                 model_pipeline, \n",
    "                                 model_parameters):\n",
    "    \n",
    "    train_data = train_data.loc[train_data[\"city\"] == city,:].copy()\n",
    "    train_data.reset_index(drop = True, inplace = True)\n",
    "    X = train_data.drop(columns = [\"city\"])\n",
    "    \n",
    "    Y = train_label.loc[train_label[\"city\"] == city,:].copy()\n",
    "    Y.reset_index(drop = True, inplace = True)\n",
    "    Y = Y[\"total_cases\"]\n",
    "    \n",
    "    Y_threshold = np.percentile(Y, threshold)\n",
    "    \n",
    "    test_data = test_data.loc[test_data[\"city\"] == city,:].copy()\n",
    "    test_data.reset_index(drop = True, inplace = True)\n",
    "    X_test = test_data.drop(columns = [\"city\"])\n",
    "    \n",
    "    for i in range(len(model_parameters)):\n",
    "        model_parameters[i][\"general_estimator__threshold\"] = [Y_threshold]\n",
    "           \n",
    "    model_gscv = GridSearchCV(estimator = model_pipeline, \n",
    "                              param_grid = model_parameters, \n",
    "                              scoring = model_scoring, \n",
    "                              cv = 10, \n",
    "                              verbose = 1,\n",
    "                              n_jobs = -1,\n",
    "                              return_train_score = True,\n",
    "                              error_score = Y.mean()+ Y.std())\n",
    "    \n",
    "\n",
    "    \n",
    "    model_gscv.fit(X, Y)\n",
    "    \n",
    "    print(\"The select parameters:\")\n",
    "    print(list(model_gscv.best_params_.items())[2:])\n",
    "    \n",
    "    pred_train = model_gscv.best_estimator_.predict(X)\n",
    "    pred_test = model_gscv.best_estimator_.predict(X_test)\n",
    "    \n",
    "    out_name = str(threshold) + \"_sev\"\n",
    "    \n",
    "    train_data[out_name] = pred_train\n",
    "    test_data[out_name] = pred_test\n",
    "    \n",
    "    return train_data[[\"city\", \"week_start_date\", out_name]], test_data[[\"city\", \"week_start_date\", out_name]], model_gscv"
   ]
  },
  {
   "cell_type": "code",
   "execution_count": 7,
   "id": "346aeca6",
   "metadata": {},
   "outputs": [],
   "source": [
    "def two_stage_model_wraper_v2(train_data, \n",
    "                              train_label, \n",
    "                              test_data, \n",
    "                              model_scoring_p, \n",
    "                              model_pipeline_p, \n",
    "                              model_parameters_p,\n",
    "                              model_scoring_s, \n",
    "                              model_pipeline_s, \n",
    "                              model_parameters_s):\n",
    "    #----------------SJ---------------------------------------------------\n",
    "    \n",
    "    temp_sj_data = train_data.loc[train_data[\"city\"] == \"sj\",:].copy()\n",
    "    temp_sj_data.reset_index(drop = True, inplace = True)\n",
    "    \n",
    "    temp_sj_test = test_data.loc[test_data[\"city\"] == \"sj\",:].copy()\n",
    "    temp_sj_test.reset_index(drop = True, inplace = True)\n",
    "    \n",
    "    sj_threshold_list = [95, 97]\n",
    "    \n",
    "    for threshold in sj_threshold_list:\n",
    "        print(\"Fitting SJ data with threshold {}\".format(threshold))\n",
    "        train_cls_sj, test_cls_sj, cv_cls_sj = clf_model_fit_transform(\"sj\",\n",
    "                                                                        threshold,\n",
    "                                                                        train_data, \n",
    "                                                                        train_label, \n",
    "                                                                        test_data, \n",
    "                                                                        model_scoring_p,\n",
    "                                                                        model_pipeline_p,\n",
    "                                                                        model_parameters_p)\n",
    "        #print(\"fitting severity\")\n",
    "        train_sev_sj, test_sev_sj, cv_sev_sj = severity_model_fit_transform_v2(\"sj\",\n",
    "                                                                            threshold,\n",
    "                                                                            train_data, \n",
    "                                                                            train_label, \n",
    "                                                                            test_data, \n",
    "                                                                            model_scoring_s,\n",
    "                                                                            model_pipeline_s,\n",
    "                                                                            model_parameters_s)\n",
    "        \n",
    "        temp_sj_data = temp_sj_data.merge(train_cls_sj, on = [\"city\", \"week_start_date\"], how = \"left\")\n",
    "        temp_sj_data = temp_sj_data.merge(train_sev_sj, on = [\"city\", \"week_start_date\"], how = \"left\")\n",
    "        \n",
    "        temp_sj_test = temp_sj_test.merge(test_cls_sj, on = [\"city\", \"week_start_date\"], how = \"left\")\n",
    "        temp_sj_test = temp_sj_test.merge(test_sev_sj, on = [\"city\", \"week_start_date\"], how = \"left\")\n",
    "\n",
    "    \n",
    "    #----------------IQ---------------------------------------------------\n",
    "    temp_iq_data = train_data.loc[train_data[\"city\"] == \"iq\",:].copy()\n",
    "    temp_iq_data.reset_index(drop = True, inplace = True)\n",
    "    \n",
    "    temp_iq_test = test_data.loc[test_data[\"city\"] == \"iq\",:].copy()\n",
    "    temp_iq_test.reset_index(drop = True, inplace = True)\n",
    "    \n",
    "    iq_threshold_list = [95, 97]\n",
    "    \n",
    "    for threshold in iq_threshold_list:\n",
    "        print(\"Fitting IQ data with threshold {}\".format(threshold))\n",
    "        train_cls_iq, test_cls_iq, cv_cls_iq = clf_model_fit_transform(\"iq\",\n",
    "                                                                        threshold,\n",
    "                                                                        train_data, \n",
    "                                                                        train_label, \n",
    "                                                                        test_data, \n",
    "                                                                        model_scoring_p,\n",
    "                                                                        model_pipeline_p,\n",
    "                                                                        model_parameters_p)\n",
    "        #print(\"fitting severity\")\n",
    "        train_sev_iq, test_sev_iq, cv_sev_iq = severity_model_fit_transform_v2(\"iq\",\n",
    "                                                                            threshold,\n",
    "                                                                            train_data, \n",
    "                                                                            train_label, \n",
    "                                                                            test_data, \n",
    "                                                                            model_scoring_s,\n",
    "                                                                            model_pipeline_s,\n",
    "                                                                            model_parameters_s)\n",
    "        \n",
    "        temp_iq_data = temp_iq_data.merge(train_cls_iq, on = [\"city\", \"week_start_date\"], how = \"left\")\n",
    "        temp_iq_data = temp_iq_data.merge(train_sev_iq, on = [\"city\", \"week_start_date\"], how = \"left\")\n",
    "        \n",
    "        temp_iq_test = temp_iq_test.merge(test_cls_iq, on = [\"city\", \"week_start_date\"], how = \"left\")\n",
    "        temp_iq_test = temp_iq_test.merge(test_sev_iq, on = [\"city\", \"week_start_date\"], how = \"left\")\n",
    "        \n",
    "\n",
    "    #-----------------------combine results----------------------------------------------------------\n",
    "    for threshold in sj_threshold_list:\n",
    "        cls_name = str(threshold) + \"_cls\"\n",
    "        sev_name = str(threshold) + \"_sev\"\n",
    "        temp_sj_data.loc[:, [str(threshold)]] = temp_sj_data[[cls_name]].to_numpy() * temp_sj_data[[sev_name]].to_numpy()\n",
    "        temp_sj_test.loc[:, [str(threshold)]] = temp_sj_test[[cls_name]].to_numpy() * temp_sj_test[[sev_name]].to_numpy()\n",
    "    \n",
    "    sj_pred_train = temp_sj_data.iloc[:,-2:].max(axis=1)\n",
    "    sj_pred_test = temp_sj_test.iloc[:,-2:].max(axis=1)\n",
    "    #sj_pred_train = temp_sj_data.loc[:,str(threshold)]\n",
    "    #sj_pred_test = temp_sj_data.loc[:,str(threshold)]\n",
    "    \n",
    "\n",
    "    for threshold in iq_threshold_list:\n",
    "        cls_name = str(threshold) + \"_cls\"\n",
    "        sev_name = str(threshold) + \"_sev\"\n",
    "        temp_iq_data.loc[:, [str(threshold)]] = temp_iq_data[[cls_name]].to_numpy() * temp_iq_data[[sev_name]].to_numpy()\n",
    "        temp_iq_test.loc[:, [str(threshold)]] = temp_iq_test[[cls_name]].to_numpy() * temp_iq_test[[sev_name]].to_numpy()\n",
    "    \n",
    "    iq_pred_train = temp_iq_data.iloc[:,-2:].max(axis=1)\n",
    "    iq_pred_test = temp_iq_test.iloc[:,-2:].max(axis=1)    \n",
    "    #iq_pred_train = temp_iq_data.loc[:,str(threshold)]\n",
    "    #iq_pred_test = temp_iq_test.loc[:,str(threshold)]\n",
    "    \n",
    "    train_pred = pd.concat([sj_pred_train, iq_pred_train], ignore_index = True)\n",
    "    test_pred = pd.concat([sj_pred_test, iq_pred_test], ignore_index = True)\n",
    "    \n",
    "    \n",
    "    #\n",
    "    out_train = train_data.copy()\n",
    "    out_train[\"prediction\"] = train_pred.astype(int)\n",
    "    out_test = test_data.copy()\n",
    "    out_test[\"prediction\"] = test_pred.astype(int)\n",
    "       \n",
    "    current_score = mean_absolute_error(train_label[\"total_cases\"], out_train[\"prediction\"])\n",
    "    print(\"Train MAE: {}\".format(current_score))\n",
    "          \n",
    "    out_train = out_train[[\"city\", \"year\", \"weekofyear\", \"week_start_date\", \"prediction\"]]\n",
    "    out_test = out_test[[\"city\", \"year\", \"weekofyear\", \"prediction\"]]\n",
    "    \n",
    "    return out_train, out_test"
   ]
  },
  {
   "cell_type": "code",
   "execution_count": 8,
   "id": "3fefcacf",
   "metadata": {},
   "outputs": [
    {
     "name": "stdout",
     "output_type": "stream",
     "text": [
      "Fitting SJ data with threshold 95\n",
      "Fitting 5 folds for each of 40 candidates, totalling 200 fits\n"
     ]
    },
    {
     "name": "stderr",
     "output_type": "stream",
     "text": [
      "E:\\Anaconda3\\lib\\site-packages\\sklearn\\cluster\\_affinity_propagation.py:253: ConvergenceWarning: Affinity propagation did not converge, this model will not have any cluster centers.\n",
      "  ConvergenceWarning,\n",
      "E:\\Anaconda3\\lib\\site-packages\\sklearn\\cluster\\_affinity_propagation.py:253: ConvergenceWarning: Affinity propagation did not converge, this model will not have any cluster centers.\n",
      "  ConvergenceWarning,\n"
     ]
    },
    {
     "name": "stdout",
     "output_type": "stream",
     "text": [
      "The select parameters:\n",
      "[('general_estimator__estimator__max_leaves', 3), ('general_estimator__estimator__min_child_weight', 1), ('general_estimator__estimator__n_estimators', 11), ('general_estimator__estimator__subsample', 1)]\n",
      "0.6857788\n",
      "Fitting 10 folds for each of 30 candidates, totalling 300 fits\n"
     ]
    },
    {
     "name": "stderr",
     "output_type": "stream",
     "text": [
      "E:\\Anaconda3\\lib\\site-packages\\pandas\\core\\frame.py:4913: SettingWithCopyWarning: \n",
      "A value is trying to be set on a copy of a slice from a DataFrame\n",
      "\n",
      "See the caveats in the documentation: https://pandas.pydata.org/pandas-docs/stable/user_guide/indexing.html#returning-a-view-versus-a-copy\n",
      "  errors=errors,\n"
     ]
    },
    {
     "name": "stdout",
     "output_type": "stream",
     "text": [
      "The select parameters:\n",
      "[('general_estimator__estimator__max_leaves', 7), ('general_estimator__estimator__min_child_weight', 1), ('general_estimator__estimator__n_estimators', 5), ('general_estimator__estimator__subsample', 1), ('general_estimator__severity_mode', 1), ('general_estimator__threshold', 112.0)]\n",
      "Fitting SJ data with threshold 97\n",
      "Fitting 5 folds for each of 40 candidates, totalling 200 fits\n",
      "The select parameters:\n",
      "[('general_estimator__estimator__max_leaves', 9), ('general_estimator__estimator__min_child_weight', 1), ('general_estimator__estimator__n_estimators', 5), ('general_estimator__estimator__subsample', 1)]\n",
      "0.65659\n",
      "Fitting 10 folds for each of 30 candidates, totalling 300 fits\n"
     ]
    },
    {
     "name": "stderr",
     "output_type": "stream",
     "text": [
      "E:\\Anaconda3\\lib\\site-packages\\pandas\\core\\frame.py:4913: SettingWithCopyWarning: \n",
      "A value is trying to be set on a copy of a slice from a DataFrame\n",
      "\n",
      "See the caveats in the documentation: https://pandas.pydata.org/pandas-docs/stable/user_guide/indexing.html#returning-a-view-versus-a-copy\n",
      "  errors=errors,\n"
     ]
    },
    {
     "name": "stdout",
     "output_type": "stream",
     "text": [
      "The select parameters:\n",
      "[('general_estimator__estimator__max_leaves', 5), ('general_estimator__estimator__min_child_weight', 1), ('general_estimator__estimator__n_estimators', 5), ('general_estimator__estimator__subsample', 1), ('general_estimator__severity_mode', 1), ('general_estimator__threshold', 140.94999999999993)]\n",
      "Fitting IQ data with threshold 95\n",
      "Fitting 5 folds for each of 40 candidates, totalling 200 fits\n",
      "The select parameters:\n",
      "[('general_estimator__estimator__max_leaves', 3), ('general_estimator__estimator__min_child_weight', 20), ('general_estimator__estimator__n_estimators', 11), ('general_estimator__estimator__subsample', 1)]\n",
      "0.766734\n",
      "Fitting 10 folds for each of 30 candidates, totalling 300 fits\n"
     ]
    },
    {
     "name": "stderr",
     "output_type": "stream",
     "text": [
      "E:\\Anaconda3\\lib\\site-packages\\sklearn\\cluster\\_affinity_propagation.py:253: ConvergenceWarning: Affinity propagation did not converge, this model will not have any cluster centers.\n",
      "  ConvergenceWarning,\n",
      "E:\\Anaconda3\\lib\\site-packages\\sklearn\\cluster\\_affinity_propagation.py:253: ConvergenceWarning: Affinity propagation did not converge, this model will not have any cluster centers.\n",
      "  ConvergenceWarning,\n",
      "E:\\Anaconda3\\lib\\site-packages\\pandas\\core\\frame.py:4913: SettingWithCopyWarning: \n",
      "A value is trying to be set on a copy of a slice from a DataFrame\n",
      "\n",
      "See the caveats in the documentation: https://pandas.pydata.org/pandas-docs/stable/user_guide/indexing.html#returning-a-view-versus-a-copy\n",
      "  errors=errors,\n"
     ]
    },
    {
     "name": "stdout",
     "output_type": "stream",
     "text": [
      "The select parameters:\n",
      "[('general_estimator__estimator__max_leaves', 7), ('general_estimator__estimator__min_child_weight', 1), ('general_estimator__estimator__n_estimators', 5), ('general_estimator__estimator__subsample', 1), ('general_estimator__severity_mode', 1), ('general_estimator__threshold', 28.0)]\n",
      "Fitting IQ data with threshold 97\n",
      "Fitting 5 folds for each of 40 candidates, totalling 200 fits\n"
     ]
    },
    {
     "name": "stderr",
     "output_type": "stream",
     "text": [
      "E:\\Anaconda3\\lib\\site-packages\\sklearn\\cluster\\_affinity_propagation.py:253: ConvergenceWarning: Affinity propagation did not converge, this model will not have any cluster centers.\n",
      "  ConvergenceWarning,\n"
     ]
    },
    {
     "name": "stdout",
     "output_type": "stream",
     "text": [
      "The select parameters:\n",
      "[('general_estimator__estimator__max_leaves', 5), ('general_estimator__estimator__min_child_weight', 20), ('general_estimator__estimator__n_estimators', 17), ('general_estimator__estimator__subsample', 1)]\n",
      "0.88306034\n",
      "Fitting 10 folds for each of 30 candidates, totalling 300 fits\n"
     ]
    },
    {
     "name": "stderr",
     "output_type": "stream",
     "text": [
      "E:\\Anaconda3\\lib\\site-packages\\sklearn\\cluster\\_affinity_propagation.py:253: ConvergenceWarning: Affinity propagation did not converge, this model will not have any cluster centers.\n",
      "  ConvergenceWarning,\n",
      "E:\\Anaconda3\\lib\\site-packages\\sklearn\\cluster\\_affinity_propagation.py:253: ConvergenceWarning: Affinity propagation did not converge, this model will not have any cluster centers.\n",
      "  ConvergenceWarning,\n",
      "E:\\Anaconda3\\lib\\site-packages\\pandas\\core\\frame.py:4913: SettingWithCopyWarning: \n",
      "A value is trying to be set on a copy of a slice from a DataFrame\n",
      "\n",
      "See the caveats in the documentation: https://pandas.pydata.org/pandas-docs/stable/user_guide/indexing.html#returning-a-view-versus-a-copy\n",
      "  errors=errors,\n"
     ]
    },
    {
     "name": "stdout",
     "output_type": "stream",
     "text": [
      "The select parameters:\n",
      "[('general_estimator__estimator__max_leaves', 3), ('general_estimator__estimator__min_child_weight', 1), ('general_estimator__estimator__n_estimators', 5), ('general_estimator__estimator__subsample', 1), ('general_estimator__severity_mode', 1), ('general_estimator__threshold', 33.43000000000001)]\n",
      "Train MAE: 22.81662087912088\n"
     ]
    }
   ],
   "source": [
    "train_pred, test_pred = two_stage_model_wraper_v2(train_data, \n",
    "                                               train_label, \n",
    "                                               test_data,\n",
    "                                               clf_scoring_tuning,\n",
    "                                               clf_pipeline,\n",
    "                                               clf_parameters,\n",
    "                                               reg_scoring, \n",
    "                                               reg_pipeline, \n",
    "                                               reg_parameters)"
   ]
  },
  {
   "cell_type": "code",
   "execution_count": null,
   "id": "f6099ff0",
   "metadata": {},
   "outputs": [],
   "source": []
  },
  {
   "cell_type": "code",
   "execution_count": 9,
   "id": "7f252648",
   "metadata": {},
   "outputs": [
    {
     "data": {
      "text/plain": [
       "<AxesSubplot:>"
      ]
     },
     "execution_count": 9,
     "metadata": {},
     "output_type": "execute_result"
    },
    {
     "data": {
      "image/png": "[encoded data removed]",
      "text/plain": [
       "<Figure size 432x288 with 1 Axes>"
      ]
     },
     "metadata": {
      "needs_background": "light"
     },
     "output_type": "display_data"
    }
   ],
   "source": [
    "train_pred[\"prediction\"].plot()"
   ]
  },
  {
   "cell_type": "code",
   "execution_count": 10,
   "id": "e284a9cf",
   "metadata": {},
   "outputs": [
    {
     "data": {
      "text/plain": [
       "<AxesSubplot:>"
      ]
     },
     "execution_count": 10,
     "metadata": {},
     "output_type": "execute_result"
    },
    {
     "data": {
      "image/png": "[encoded data removed]",
      "text/plain": [
       "<Figure size 432x288 with 1 Axes>"
      ]
     },
     "metadata": {
      "needs_background": "light"
     },
     "output_type": "display_data"
    }
   ],
   "source": [
    "train_label[\"total_cases\"].plot()"
   ]
  },
  {
   "cell_type": "code",
   "execution_count": 11,
   "id": "ea19e42c",
   "metadata": {},
   "outputs": [
    {
     "data": {
      "text/plain": [
       "<AxesSubplot:>"
      ]
     },
     "execution_count": 11,
     "metadata": {},
     "output_type": "execute_result"
    },
    {
     "data": {
      "image/png": "[encoded data removed]",
      "text/plain": [
       "<Figure size 432x288 with 1 Axes>"
      ]
     },
     "metadata": {
      "needs_background": "light"
     },
     "output_type": "display_data"
    }
   ],
   "source": [
    "test_pred[\"prediction\"].plot()"
   ]
  },
  {
   "cell_type": "code",
   "execution_count": null,
   "id": "c90bf296",
   "metadata": {},
   "outputs": [],
   "source": []
  },
  {
   "cell_type": "code",
   "execution_count": null,
   "id": "4fd9c79b",
   "metadata": {},
   "outputs": [],
   "source": []
  },
  {
   "cell_type": "code",
   "execution_count": 12,
   "id": "af8db63f",
   "metadata": {},
   "outputs": [],
   "source": [
    "train_pred.to_csv(\"twostage_outlier_train_pred.csv\", index = False)\n",
    "test_pred.to_csv(\"twostage_outlier_test_pred.csv\", index = False)\n",
    "\n",
    "submission = pd.read_csv(\"data/submission_format.csv\")\n",
    "submission = submission.merge(test_pred, on = [\"city\", \"year\", \"weekofyear\"], how = \"left\")\n",
    "submission[\"total_cases\"] = submission[\"prediction\"].astype(int)\n",
    "submission.drop(columns=[\"prediction\"], inplace = True)\n",
    "\n",
    "submission.to_csv(\"twostage_outlier_submission.csv\", index = False)"
   ]
  },
  {
   "cell_type": "code",
   "execution_count": null,
   "id": "6aa988f4",
   "metadata": {},
   "outputs": [],
   "source": []
  },
  {
   "cell_type": "code",
   "execution_count": 48,
   "id": "8e227a5b",
   "metadata": {},
   "outputs": [],
   "source": [
    "one_stage_prediction = pd.read_csv(\"onestage_submission.csv\")\n",
    "lstm_prediction = pd.read_csv(\"lstm_prediction.csv\")"
   ]
  },
  {
   "cell_type": "code",
   "execution_count": 49,
   "id": "ac8a2087",
   "metadata": {},
   "outputs": [],
   "source": [
    "test_pred_rev_mask = (test_pred[\"prediction\"]>0).astype(int)\n",
    "test_pred_rev_mask = 1 - test_pred_rev_mask"
   ]
  },
  {
   "cell_type": "code",
   "execution_count": 50,
   "id": "203bfe67",
   "metadata": {},
   "outputs": [],
   "source": [
    "one_stage_prediction[\"total_cases\"] = test_pred_rev_mask*one_stage_prediction.loc[:,\"total_cases\"].to_numpy() + test_pred.loc[:, \"prediction\"].to_numpy()"
   ]
  },
  {
   "cell_type": "code",
   "execution_count": 51,
   "id": "ccca8489",
   "metadata": {},
   "outputs": [],
   "source": [
    "lstm_prediction[\"total_cases\"] = test_pred_rev_mask*lstm_prediction.loc[:,\"total_cases\"].to_numpy() + test_pred.loc[:, \"prediction\"].to_numpy()"
   ]
  },
  {
   "cell_type": "code",
   "execution_count": 56,
   "id": "d0b9457a",
   "metadata": {},
   "outputs": [],
   "source": [
    "lstm_prediction[\"total_cases\"] = lstm_prediction[\"total_cases\"].astype(int)"
   ]
  },
  {
   "cell_type": "code",
   "execution_count": 57,
   "id": "666f8691",
   "metadata": {},
   "outputs": [],
   "source": [
    "one_stage_prediction.to_csv(\"twostage_onestage_submission.csv\", index = False)\n",
    "lstm_prediction.to_csv(\"twostage_lstm_submission.csv\", index = False)"
   ]
  },
  {
   "cell_type": "code",
   "execution_count": null,
   "id": "e1f17987",
   "metadata": {},
   "outputs": [],
   "source": []
  }
 ],
 "metadata": {
  "kernelspec": {
   "display_name": "Python 3 (ipykernel)",
   "language": "python",
   "name": "python3"
  },
  "language_info": {
   "codemirror_mode": {
    "name": "ipython",
    "version": 3
   },
   "file_extension": ".py",
   "mimetype": "text/x-python",
   "name": "python",
   "nbconvert_exporter": "python",
   "pygments_lexer": "ipython3",
   "version": "3.7.10"
  },
  "toc": {
   "base_numbering": 1,
   "nav_menu": {},
   "number_sections": true,
   "sideBar": true,
   "skip_h1_title": false,
   "title_cell": "Table of Contents",
   "title_sidebar": "Contents",
   "toc_cell": false,
   "toc_position": {},
   "toc_section_display": true,
   "toc_window_display": false
  }
 },
 "nbformat": 4,
 "nbformat_minor": 5
}
