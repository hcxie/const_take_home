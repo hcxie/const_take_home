{
 "cells": [
  {
   "cell_type": "code",
   "execution_count": 1,
   "id": "89fb20b7",
   "metadata": {},
   "outputs": [
    {
     "name": "stdout",
     "output_type": "stream",
     "text": [
      "G:\\operation d\\active project\\const_hw\n"
     ]
    }
   ],
   "source": [
    "%cd .."
   ]
  },
  {
   "cell_type": "code",
   "execution_count": 2,
   "id": "d283a22d",
   "metadata": {},
   "outputs": [],
   "source": [
    "from imblearn.pipeline import make_pipeline as imblearn_make_pipeline\n",
    "from src._helper_class import *\n",
    "import xgboost as xgb\n",
    "from xgboost import XGBRegressor\n",
    "from sklearn.linear_model import TweedieRegressor, PoissonRegressor, Lasso\n",
    "from sklearn.metrics import mean_absolute_error\n",
    "from sklearn.svm import SVR\n",
    "from sklearn.model_selection import GridSearchCV, TimeSeriesSplit\n",
    "from sklearn.metrics import mean_absolute_error\n",
    "\n",
    "#import warnings\n",
    "#warnings.filterwarnings('ignore')"
   ]
  },
  {
   "cell_type": "code",
   "execution_count": 3,
   "id": "c35c3948",
   "metadata": {},
   "outputs": [],
   "source": [
    "# load data\n",
    "train_data = pd.read_csv(\"data/dengue_features_train.csv\")\n",
    "train_label = pd.read_csv(\"data/dengue_labels_train.csv\")\n",
    "test_data = pd.read_csv(\"data/dengue_features_test.csv\")\n"
   ]
  },
  {
   "cell_type": "code",
   "execution_count": 4,
   "id": "cef743eb",
   "metadata": {},
   "outputs": [],
   "source": [
    "# regression pipeline\n",
    "\n",
    "reg_scoring = \"neg_mean_absolute_error\"\n",
    "\n",
    "reg_pipeline = imblearn_make_pipeline(\n",
    "    Dengue_cat_encoder(),\n",
    "    Stationarity_adjustment(),\n",
    "    Feature_argumentation1(),\n",
    "    Standardization(),\n",
    "    Imputer(),\n",
    "    Feature_argumentation2(),\n",
    "    Feature_argumentation3(),\n",
    "    Feature_selection(),\n",
    "    General_estimator()\n",
    ")\n",
    "\n",
    "reg_parameters = [\n",
    "    {\"general_estimator__estimator\": [XGBRegressor(grow_policy = \"lossguide\",\n",
    "                                                   objective = \"reg:tweedie\",\n",
    "                                                   booster = \"gbtree\",\n",
    "                                                   tree_method = \"hist\",\n",
    "                                                   eta = 0.1\n",
    "                                                   )\n",
    "                                     ],\n",
    "     \"general_estimator__estimator__n_estimators\": [5, 10, 15, 20],   \n",
    "     \"general_estimator__estimator__tweedie_variance_power\": [1.1, 1.5], \n",
    "     \"general_estimator__estimator__max_leaves\": [3, 5, 7, 9],\n",
    "     \"general_estimator__estimator__min_child_weight\": [1],\n",
    "     \"general_estimator__estimator__subsample\": [1],\n",
    "     \"feature_selection__estimator\": [XGBRegressor(objective = \"reg:tweedie\",\n",
    "                                                   tree_method = \"hist\")\n",
    "                                     ]\n",
    "    },\n",
    "    \n",
    "    {\"general_estimator__estimator\": [TweedieRegressor(max_iter = 10000)],\n",
    "     \"general_estimator__estimator__power\": [1.1, 1.5],\n",
    "     \"general_estimator__estimator__alpha\": [0.1, 1, 2, 5],\n",
    "     \"feature_selection__estimator\": [TweedieRegressor(max_iter = 10000)]\n",
    "    },\n",
    "    \n",
    "    {\"general_estimator__estimator\": [SVR(kernel = 'rbf',\n",
    "                                          max_iter = 10000)\n",
    "                                     ],\n",
    "     \"general_estimator__estimator__C\": [1e-1, 1e0, 1e1, 1e2, 1e3],\n",
    "     \"feature_selection__estimator\": [SVR(kernel = 'rbf',\n",
    "                                          max_iter = 10000)\n",
    "                                     ]\n",
    "    }\n",
    "\n",
    "]\n"
   ]
  },
  {
   "cell_type": "code",
   "execution_count": null,
   "id": "89ae6b64",
   "metadata": {},
   "outputs": [],
   "source": []
  },
  {
   "cell_type": "code",
   "execution_count": 5,
   "id": "f53807fa",
   "metadata": {},
   "outputs": [],
   "source": [
    "def one_stage_model_fit_transform(city, train_data, train_label, test_data, model_scoring, model_pipeline, model_parameters):\n",
    "    \n",
    "    train_data = train_data.loc[train_data[\"city\"] == city,:].copy()\n",
    "    train_data.reset_index(drop = True, inplace = True)\n",
    "    X = train_data.drop(columns = [\"city\"])\n",
    "    \n",
    "    Y = train_label.loc[train_label[\"city\"] == city,:].copy()\n",
    "    Y.reset_index(drop = True, inplace = True)\n",
    "    Y = Y[\"total_cases\"]\n",
    "    \n",
    "    test_data = test_data.loc[test_data[\"city\"] == city,:].copy()\n",
    "    test_data.reset_index(drop = True, inplace = True)\n",
    "    X_test = test_data.drop(columns = [\"city\"])\n",
    "\n",
    "    model_gscv = GridSearchCV(estimator = model_pipeline, \n",
    "                              param_grid = model_parameters, \n",
    "                              scoring = model_scoring, \n",
    "                              cv = TimeSeriesSplit(n_splits = 3), \n",
    "                              verbose = 1,\n",
    "                              n_jobs = -1,\n",
    "                              return_train_score = True,\n",
    "                              error_score = Y.mean())\n",
    "    \n",
    "    model_gscv.fit(X, Y)\n",
    "    \n",
    "    print(\"The select parameters:\")\n",
    "    print(model_gscv.best_params_)\n",
    "    \n",
    "    pred_train = model_gscv.best_estimator_.predict(X)\n",
    "    pred_test = model_gscv.best_estimator_.predict(X_test)\n",
    "    \n",
    "    print(\"current MAE: {}\".format(mean_absolute_error(Y,pred_train)))\n",
    "    \n",
    "    train_data[\"prediction\"] = pred_train\n",
    "    test_data[\"prediction\"] = pred_test\n",
    "    \n",
    "    return train_data[[\"city\", \"week_start_date\", \"prediction\"]], test_data[[\"city\", \"week_start_date\", \"prediction\"]], model_gscv"
   ]
  },
  {
   "cell_type": "code",
   "execution_count": 6,
   "id": "ae636a11",
   "metadata": {},
   "outputs": [],
   "source": [
    "def one_stage_mode_wraper(train_data, train_label, test_data, model_scoring, model_pipeline, model_parameters):\n",
    "    \n",
    "    train_pred_sj, test_pred_sj, cv_object_sj = one_stage_model_fit_transform(\"sj\", \n",
    "                                                                              train_data, \n",
    "                                                                              train_label, \n",
    "                                                                              test_data, \n",
    "                                                                              model_scoring,\n",
    "                                                                              model_pipeline,\n",
    "                                                                              model_parameters)\n",
    "\n",
    "    train_pred_iq, test_pred_iq, cv_object_iq = one_stage_model_fit_transform(\"iq\", \n",
    "                                                                              train_data, \n",
    "                                                                              train_label, \n",
    "                                                                              test_data, \n",
    "                                                                              model_scoring,\n",
    "                                                                              model_pipeline,\n",
    "                                                                              model_parameters)\n",
    "    \n",
    "    train_pred = pd.concat([train_pred_sj, train_pred_iq], ignore_index = True)\n",
    "    train_data = train_data.merge(train_pred, on = [\"city\", \"week_start_date\"], how = \"left\")\n",
    "    \n",
    "    test_pred = pd.concat([test_pred_sj, test_pred_iq], ignore_index = True)\n",
    "    test_data = test_data.merge(test_pred, on = [\"city\", \"week_start_date\"], how = \"left\")\n",
    "    \n",
    "    print(\"training mae: {}\".format(mean_absolute_error(train_label[\"total_cases\"],\n",
    "                                                        train_data[\"prediction\"]\n",
    "                                                       )\n",
    "                                   ))\n",
    "          \n",
    "    out_train = train_data[[\"city\", \"year\", \"weekofyear\", \"week_start_date\", \"prediction\"]]\n",
    "    out_test = test_data[[\"city\", \"year\", \"weekofyear\", \"week_start_date\", \"prediction\"]]\n",
    "    \n",
    "    return out_train, out_test, cv_object_sj, cv_object_iq\n",
    "        \n",
    "    \n",
    "    "
   ]
  },
  {
   "cell_type": "code",
   "execution_count": 7,
   "id": "575ca675",
   "metadata": {},
   "outputs": [
    {
     "name": "stdout",
     "output_type": "stream",
     "text": [
      "Fitting 3 folds for each of 45 candidates, totalling 135 fits\n",
      "The select parameters:\n",
      "{'feature_selection__estimator': XGBRegressor(base_score=None, booster=None, callbacks=None,\n",
      "             colsample_bylevel=None, colsample_bynode=None,\n",
      "             colsample_bytree=None, early_stopping_rounds=None,\n",
      "             enable_categorical=False, eval_metric=None, gamma=None,\n",
      "             gpu_id=None, grow_policy=None, importance_type=None,\n",
      "             interaction_constraints=None, learning_rate=None, max_bin=None,\n",
      "             max_cat_to_onehot=None, max_delta_step=None, max_depth=None,\n",
      "             max_leaves=None, min_child_weight=None, missing=nan,\n",
      "             monotone_constraints=None, n_estimators=100, n_jobs=None,\n",
      "             num_parallel_tree=None, objective='reg:tweedie', predictor=None,\n",
      "             random_state=None, reg_alpha=None, ...), 'general_estimator__estimator': XGBRegressor(base_score=None, booster='gbtree', callbacks=None,\n",
      "             colsample_bylevel=None, colsample_bynode=None,\n",
      "             colsample_bytree=None, early_stopping_rounds=None,\n",
      "             enable_categorical=False, eta=0.1, eval_metric=None, gamma=None,\n",
      "             gpu_id=None, grow_policy='lossguide', importance_type=None,\n",
      "             interaction_constraints=None, learning_rate=None, max_bin=None,\n",
      "             max_cat_to_onehot=None, max_delta_step=None, max_depth=None,\n",
      "             max_leaves=5, min_child_weight=1, missing=nan,\n",
      "             monotone_constraints=None, n_estimators=10, n_jobs=None,\n",
      "             num_parallel_tree=None, objective='reg:tweedie', predictor=None,\n",
      "             random_state=None, ...), 'general_estimator__estimator__max_leaves': 5, 'general_estimator__estimator__min_child_weight': 1, 'general_estimator__estimator__n_estimators': 10, 'general_estimator__estimator__subsample': 1, 'general_estimator__estimator__tweedie_variance_power': 1.1}\n",
      "current MAE: 21.044064897247868\n",
      "Fitting 3 folds for each of 45 candidates, totalling 135 fits\n"
     ]
    },
    {
     "name": "stderr",
     "output_type": "stream",
     "text": [
      "E:\\Anaconda3\\lib\\site-packages\\sklearn\\cluster\\_affinity_propagation.py:253: ConvergenceWarning: Affinity propagation did not converge, this model will not have any cluster centers.\n",
      "  ConvergenceWarning,\n",
      "E:\\Anaconda3\\lib\\site-packages\\sklearn\\cluster\\_affinity_propagation.py:253: ConvergenceWarning: Affinity propagation did not converge, this model will not have any cluster centers.\n",
      "  ConvergenceWarning,\n"
     ]
    },
    {
     "name": "stdout",
     "output_type": "stream",
     "text": [
      "The select parameters:\n",
      "{'feature_selection__estimator': XGBRegressor(base_score=None, booster=None, callbacks=None,\n",
      "             colsample_bylevel=None, colsample_bynode=None,\n",
      "             colsample_bytree=None, early_stopping_rounds=None,\n",
      "             enable_categorical=False, eval_metric=None, gamma=None,\n",
      "             gpu_id=None, grow_policy=None, importance_type=None,\n",
      "             interaction_constraints=None, learning_rate=None, max_bin=None,\n",
      "             max_cat_to_onehot=None, max_delta_step=None, max_depth=None,\n",
      "             max_leaves=None, min_child_weight=None, missing=nan,\n",
      "             monotone_constraints=None, n_estimators=100, n_jobs=None,\n",
      "             num_parallel_tree=None, objective='reg:tweedie', predictor=None,\n",
      "             random_state=None, reg_alpha=None, ...), 'general_estimator__estimator': XGBRegressor(base_score=None, booster='gbtree', callbacks=None,\n",
      "             colsample_bylevel=None, colsample_bynode=None,\n",
      "             colsample_bytree=None, early_stopping_rounds=None,\n",
      "             enable_categorical=False, eta=0.1, eval_metric=None, gamma=None,\n",
      "             gpu_id=None, grow_policy='lossguide', importance_type=None,\n",
      "             interaction_constraints=None, learning_rate=None, max_bin=None,\n",
      "             max_cat_to_onehot=None, max_delta_step=None, max_depth=None,\n",
      "             max_leaves=3, min_child_weight=1, missing=nan,\n",
      "             monotone_constraints=None, n_estimators=15, n_jobs=None,\n",
      "             num_parallel_tree=None, objective='reg:tweedie', predictor=None,\n",
      "             random_state=None, ...), 'general_estimator__estimator__max_leaves': 3, 'general_estimator__estimator__min_child_weight': 1, 'general_estimator__estimator__n_estimators': 15, 'general_estimator__estimator__subsample': 1, 'general_estimator__estimator__tweedie_variance_power': 1.1}\n",
      "current MAE: 5.293799744661038\n",
      "training mae: 15.41897019989543\n"
     ]
    }
   ],
   "source": [
    "train_pred, test_pred, cv_object_sj, cv_object_iq = one_stage_mode_wraper(train_data, train_label, test_data, reg_scoring, reg_pipeline, reg_parameters)"
   ]
  },
  {
   "cell_type": "code",
   "execution_count": 8,
   "id": "aec589c4",
   "metadata": {},
   "outputs": [],
   "source": [
    "train_pred.to_csv(\"onestage_train_pred.csv\", index = False)\n",
    "test_pred.to_csv(\"onestage_test_pred.csv\", index = False)\n",
    "\n",
    "submission = pd.read_csv(\"data/submission_format.csv\")\n",
    "submission = submission.merge(test_pred, on = [\"city\", \"year\", \"weekofyear\"], how = \"left\")\n",
    "submission[\"total_cases\"] = submission[\"prediction\"].astype(int)\n",
    "submission.drop(columns=[\"prediction\"], inplace = True)\n",
    "\n",
    "submission.to_csv(\"onestage_submission.csv\", index = False)"
   ]
  },
  {
   "cell_type": "code",
   "execution_count": 15,
   "id": "6684c92b",
   "metadata": {},
   "outputs": [
    {
     "data": {
      "text/plain": [
       "<AxesSubplot:>"
      ]
     },
     "execution_count": 15,
     "metadata": {},
     "output_type": "execute_result"
    },
    {
     "data": {
      "image/png": "[encoded data removed]",
      "text/plain": [
       "<Figure size 432x288 with 1 Axes>"
      ]
     },
     "metadata": {
      "needs_background": "light"
     },
     "output_type": "display_data"
    }
   ],
   "source": [
    "train_label[\"total_cases\"].plot()"
   ]
  },
  {
   "cell_type": "code",
   "execution_count": 13,
   "id": "282e137c",
   "metadata": {},
   "outputs": [
    {
     "data": {
      "text/plain": [
       "<AxesSubplot:>"
      ]
     },
     "execution_count": 13,
     "metadata": {},
     "output_type": "execute_result"
    },
    {
     "data": {
      "image/png": "[encoded data removed]",
      "text/plain": [
       "<Figure size 432x288 with 1 Axes>"
      ]
     },
     "metadata": {
      "needs_background": "light"
     },
     "output_type": "display_data"
    }
   ],
   "source": [
    "train_pred[\"prediction\"].plot()"
   ]
  },
  {
   "cell_type": "code",
   "execution_count": 14,
   "id": "032908ff",
   "metadata": {},
   "outputs": [
    {
     "data": {
      "text/plain": [
       "<AxesSubplot:>"
      ]
     },
     "execution_count": 14,
     "metadata": {},
     "output_type": "execute_result"
    },
    {
     "data": {
      "image/png": "[encoded data removed]",
      "text/plain": [
       "<Figure size 432x288 with 1 Axes>"
      ]
     },
     "metadata": {
      "needs_background": "light"
     },
     "output_type": "display_data"
    }
   ],
   "source": [
    "test_pred[\"prediction\"].plot()"
   ]
  },
  {
   "cell_type": "code",
   "execution_count": null,
   "id": "5568a5e3",
   "metadata": {},
   "outputs": [],
   "source": []
  }
 ],
 "metadata": {
  "kernelspec": {
   "display_name": "Python 3 (ipykernel)",
   "language": "python",
   "name": "python3"
  },
  "language_info": {
   "codemirror_mode": {
    "name": "ipython",
    "version": 3
   },
   "file_extension": ".py",
   "mimetype": "text/x-python",
   "name": "python",
   "nbconvert_exporter": "python",
   "pygments_lexer": "ipython3",
   "version": "3.7.13"
  },
  "toc": {
   "base_numbering": 1,
   "nav_menu": {},
   "number_sections": true,
   "sideBar": true,
   "skip_h1_title": false,
   "title_cell": "Table of Contents",
   "title_sidebar": "Contents",
   "toc_cell": false,
   "toc_position": {},
   "toc_section_display": true,
   "toc_window_display": false
  }
 },
 "nbformat": 4,
 "nbformat_minor": 5
}
